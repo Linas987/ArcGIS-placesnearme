{
  "nbformat": 4,
  "nbformat_minor": 0,
  "metadata": {
    "colab": {
      "name": " Fine-tuning CLIP with HF and jax.ipynb",
      "provenance": [],
      "gpuType": "T4"
    },
    "kernelspec": {
      "display_name": "Python 3",
      "name": "python3"
    },
    "language_info": {
      "name": "python"
    },
    "accelerator": "GPU"
  },
  "cells": [
    {
      "cell_type": "code",
      "metadata": {
        "colab": {
          "base_uri": "https://localhost:8080/"
        },
        "id": "V3ulNg6gsdZM",
        "outputId": "7dfdbaee-31e6-4937-eca0-d799eedc36a8"
      },
      "source": [
        "!nvidia-smi"
      ],
      "execution_count": 1,
      "outputs": [
        {
          "output_type": "stream",
          "name": "stdout",
          "text": [
            "Sat Dec 21 17:22:22 2024       \n",
            "+---------------------------------------------------------------------------------------+\n",
            "| NVIDIA-SMI 535.104.05             Driver Version: 535.104.05   CUDA Version: 12.2     |\n",
            "|-----------------------------------------+----------------------+----------------------+\n",
            "| GPU  Name                 Persistence-M | Bus-Id        Disp.A | Volatile Uncorr. ECC |\n",
            "| Fan  Temp   Perf          Pwr:Usage/Cap |         Memory-Usage | GPU-Util  Compute M. |\n",
            "|                                         |                      |               MIG M. |\n",
            "|=========================================+======================+======================|\n",
            "|   0  Tesla T4                       Off | 00000000:00:04.0 Off |                    0 |\n",
            "| N/A   53C    P8               9W /  70W |      0MiB / 15360MiB |      0%      Default |\n",
            "|                                         |                      |                  N/A |\n",
            "+-----------------------------------------+----------------------+----------------------+\n",
            "                                                                                         \n",
            "+---------------------------------------------------------------------------------------+\n",
            "| Processes:                                                                            |\n",
            "|  GPU   GI   CI        PID   Type   Process name                            GPU Memory |\n",
            "|        ID   ID                                                             Usage      |\n",
            "|=======================================================================================|\n",
            "|  No running processes found                                                           |\n",
            "+---------------------------------------------------------------------------------------+\n"
          ]
        }
      ]
    },
    {
      "cell_type": "markdown",
      "metadata": {
        "id": "mlfVMqWO-xWQ"
      },
      "source": [
        "## Install libraries"
      ]
    },
    {
      "cell_type": "code",
      "metadata": {
        "id": "zDuOQ3kD-yN4"
      },
      "source": [
        "%%capture\n",
        "!pip install git+https://github.com/huggingface/transformers.git\n",
        "!pip install flax jsonlines ftfy wandb\n",
        "!pip install -U tqdm\n",
        "!pip install git+https://github.com/deepmind/optax.git"
      ],
      "execution_count": 2,
      "outputs": []
    },
    {
      "cell_type": "code",
      "metadata": {
        "id": "oC5CnV33_MT1"
      },
      "source": [
        "%%capture\n",
        "!git clone https://github.com/arampacha/CLIP-rsicd"
      ],
      "execution_count": 3,
      "outputs": []
    },
    {
      "cell_type": "code",
      "metadata": {
        "id": "qMTmg1jAAeAg"
      },
      "source": [
        "import sys\n",
        "sys.path += ['CLIP-rsicd']"
      ],
      "execution_count": 4,
      "outputs": []
    },
    {
      "cell_type": "markdown",
      "metadata": {
        "id": "jkt6xA5c-yta"
      },
      "source": [
        "## Imports"
      ]
    },
    {
      "cell_type": "code",
      "metadata": {
        "id": "I47SCHET_0dv",
        "colab": {
          "base_uri": "https://localhost:8080/"
        },
        "outputId": "a3191666-19cf-4ccb-c53a-41b24e4d08cb"
      },
      "source": [
        "import jax\n",
        "try:\n",
        "    # This will raise an exception if no TPU is found\n",
        "    jax.devices('cuda')[0]\n",
        "    half_precision_dtype = \"bfloat16\"\n",
        "except IndexError:\n",
        "    half_precision_dtype = \"float16\"\n",
        "    print(\"No TPU detected, using float16\")\n",
        "device_count = jax.device_count()\n",
        "print(device_count)"
      ],
      "execution_count": 5,
      "outputs": [
        {
          "output_type": "stream",
          "name": "stdout",
          "text": [
            "1\n"
          ]
        }
      ]
    },
    {
      "cell_type": "code",
      "metadata": {
        "id": "lVIt4xmy9wbe"
      },
      "source": [
        "import logging\n",
        "import math\n",
        "import os\n",
        "import sys\n",
        "import time\n",
        "from dataclasses import dataclass, field\n",
        "from pathlib import Path\n",
        "from typing import Callable, Optional, List\n",
        "import json\n",
        "import jsonlines\n",
        "import shutil\n",
        "import numpy as np\n",
        "import torch\n",
        "\n",
        "from flax import training\n",
        "from tqdm.auto import tqdm\n",
        "\n",
        "import jax\n",
        "import jax.numpy as jnp\n",
        "import optax\n",
        "import transformers\n",
        "from flax import jax_utils, traverse_util\n",
        "from flax.jax_utils import unreplicate\n",
        "from flax.training import train_state\n",
        "from flax.training.common_utils import get_metrics, onehot, shard, shard_prng_key\n",
        "from flax.training.checkpoints import save_checkpoint, restore_checkpoint\n",
        "from flax.serialization import to_bytes, from_bytes\n",
        "from transformers import (\n",
        "    CONFIG_MAPPING,\n",
        "    AutoConfig,\n",
        "    FlaxCLIPModel,\n",
        "    CLIPProcessor,\n",
        "    CLIPTokenizer,\n",
        "    TrainingArguments,\n",
        "    is_tensorboard_available,\n",
        "    IntervalStrategy\n",
        "\n",
        ")\n",
        "from transformers.testing_utils import CaptureLogger\n",
        "\n",
        "from importlib.util import find_spec\n",
        "\n",
        "logger = logging.getLogger(__name__)"
      ],
      "execution_count": 6,
      "outputs": []
    },
    {
      "cell_type": "code",
      "metadata": {
        "id": "LXIGChN5A-Ya"
      },
      "source": [
        "from utils.data import ImageTextDataset, Transform"
      ],
      "execution_count": 7,
      "outputs": []
    },
    {
      "cell_type": "markdown",
      "metadata": {
        "id": "Sad49G7xLODz"
      },
      "source": [
        "## Data"
      ]
    },
    {
      "cell_type": "markdown",
      "metadata": {
        "id": "4xqYGFFMLkBW"
      },
      "source": [
        "In this notebook we will be using [RSICD dataset](). A copy of this dataset is shared by the authors on google drive. To use it one can simply add a shrtcut to own gdrive. In my case it's `RSICD` folder."
      ]
    },
    {
      "cell_type": "code",
      "metadata": {
        "id": "Rju8hL4kLQwt",
        "colab": {
          "base_uri": "https://localhost:8080/"
        },
        "outputId": "839285ea-c2d3-4129-ff12-b14395ef7bc9"
      },
      "source": [
        "from google.colab import drive\n",
        "drive.mount('/content/gdrive', force_remount=True)\n",
        "root_dir = \"/content/gdrive/My Drive/\""
      ],
      "execution_count": 8,
      "outputs": [
        {
          "output_type": "stream",
          "name": "stdout",
          "text": [
            "Mounted at /content/gdrive\n"
          ]
        }
      ]
    },
    {
      "cell_type": "code",
      "metadata": {
        "id": "aZ3jO7sbMCAl"
      },
      "source": [
        "from pathlib import Path\n",
        "path = Path(root_dir + 'RSICD/')"
      ],
      "execution_count": 9,
      "outputs": []
    },
    {
      "cell_type": "code",
      "metadata": {
        "id": "fKwNemzjMqb-"
      },
      "source": [
        "%%capture\n",
        "!unrar x gdrive/MyDrive/RSICD/RSICD_images.rar ./data/"
      ],
      "execution_count": 10,
      "outputs": []
    },
    {
      "cell_type": "code",
      "metadata": {
        "id": "osdVWceFxLyr",
        "colab": {
          "base_uri": "https://localhost:8080/"
        },
        "outputId": "caa8b617-e02d-40a9-9b0a-b2d40ad18a77"
      },
      "source": [
        "!mv /content/data/RSICD_images/ /content/data/rsicd_images"
      ],
      "execution_count": 11,
      "outputs": [
        {
          "output_type": "stream",
          "name": "stdout",
          "text": [
            "mv: cannot stat '/content/data/RSICD_images/': No such file or directory\n"
          ]
        }
      ]
    },
    {
      "cell_type": "markdown",
      "metadata": {
        "id": "muRsDbG_PpSF"
      },
      "source": [
        "We'll be using augmented captions for the images. The files containing those are available in our [github repo]()."
      ]
    },
    {
      "cell_type": "code",
      "metadata": {
        "id": "IiiEWO-WMDSe"
      },
      "source": [
        "%%capture\n",
        "!wget -P ./data/ https://raw.githubusercontent.com/arampacha/CLIP-rsicd/master/data/textaug_train_rsicd.jsonl\n",
        "!wget -P ./data/ https://raw.githubusercontent.com/arampacha/CLIP-rsicd/master/data/textaug_valid_rsicd.jsonl\n",
        "!wget -P ./data/ https://raw.githubusercontent.com/arampacha/CLIP-rsicd/master/data/textaug_test_rsicd.jsonl"
      ],
      "execution_count": 12,
      "outputs": []
    },
    {
      "cell_type": "markdown",
      "metadata": {
        "id": "hnAbpghPQArZ"
      },
      "source": [
        "Each line in the `jsonl` file has two fields: `filename` and `captions`:"
      ]
    },
    {
      "cell_type": "code",
      "metadata": {
        "colab": {
          "base_uri": "https://localhost:8080/"
        },
        "id": "ElNL6SXmQMV2",
        "outputId": "86f99081-7aa1-42d4-e7d4-3d054ccadc4d"
      },
      "source": [
        "import jsonlines\n",
        "with jsonlines.open(\"/content/data/textaug_valid_rsicd.jsonl\", \"r\") as reader:\n",
        "    line = next(iter(reader))\n",
        "print(f\"filename: {line['filename']}\\n\")\n",
        "print(\"captions:\")\n",
        "for i, caption in enumerate(line[\"captions\"]):\n",
        "    print(f\"{i+1}) {caption}\")"
      ],
      "execution_count": 13,
      "outputs": [
        {
          "output_type": "stream",
          "name": "stdout",
          "text": [
            "filename: rsicd_images/airport_61.jpg\n",
            "\n",
            "captions:\n",
            "1) the asphalted and airport runways divide the field into several rounded rectangles arranged next to which buildings and a road are located.\n",
            "2) the tarmac and airport runways divide the field into several orderly arranged rounded rectangles  next to which is buildings and a road .\n",
            "3) a brown ground divided by the grey runway .\n",
            "4) we can see a simple termial building and an apron connceted with runways .\n",
            "5) some building with a parking lot are near an airport with several runways .\n"
          ]
        }
      ]
    },
    {
      "cell_type": "markdown",
      "metadata": {
        "id": "1EdbSAbRLRhh"
      },
      "source": [
        "## Training arguments"
      ]
    },
    {
      "cell_type": "code",
      "metadata": {
        "id": "jXZ-1Qb2dc2R",
        "colab": {
          "base_uri": "https://localhost:8080/"
        },
        "outputId": "3c02e162-2ddd-4bc2-8161-dd3298d3d258"
      },
      "source": [
        "from transformers import TrainingArguments\n",
        "training_args = TrainingArguments(\n",
        "    output_dir = \"./tmp/model1\",\n",
        "    overwrite_output_dir = False,\n",
        "    do_train = True,\n",
        "    do_eval = True,\n",
        "    evaluation_strategy = \"steps\",\n",
        "    per_device_train_batch_size = 32,\n",
        "    per_device_eval_batch_size = 32,\n",
        "    gradient_accumulation_steps = 8,\n",
        "    learning_rate = 5e-05,\n",
        "    weight_decay = 0.1,\n",
        "    adam_beta1 = 0.9,\n",
        "    adam_beta2 = 0.98,\n",
        "    adam_epsilon = 1e-06,\n",
        "    max_grad_norm = 1.0,\n",
        "    num_train_epochs = 1,\n",
        "    max_steps = -1,\n",
        "    lr_scheduler_type = \"linear\",\n",
        "    warmup_ratio = 0.2,\n",
        "    # warmup_steps = 0,\n",
        "    logging_first_step = False,\n",
        "    logging_steps = 50,\n",
        "    save_strategy = \"epoch\",\n",
        "    seed = 42,\n",
        "    dataloader_drop_last = True,\n",
        "    eval_steps = 200,\n",
        "    run_name = None,\n",
        "    adafactor = False,\n",
        "    report_to = \"all\",\n",
        "    skip_memory_metrics = True,\n",
        "    resume_from_checkpoint = None,\n",
        ")"
      ],
      "execution_count": 14,
      "outputs": [
        {
          "output_type": "stream",
          "name": "stderr",
          "text": [
            "/usr/local/lib/python3.10/dist-packages/transformers/training_args.py:1573: FutureWarning: `evaluation_strategy` is deprecated and will be removed in version 4.46 of 🤗 Transformers. Use `eval_strategy` instead\n",
            "  warnings.warn(\n"
          ]
        }
      ]
    },
    {
      "cell_type": "code",
      "metadata": {
        "id": "0gIBsInb95In"
      },
      "source": [
        "from dataclasses import dataclass, field\n",
        "from typing import Optional\n",
        "@dataclass\n",
        "class ModelArguments:\n",
        "    \"\"\"\n",
        "    Arguments pertaining to which model/config/tokenizer we are going to fine-tune, or train from scratch.\n",
        "    \"\"\"\n",
        "\n",
        "    model_name_or_path: Optional[str] = field(\n",
        "        default=None,\n",
        "        metadata={\n",
        "            \"help\": \"The model checkpoint for weights initialization.\"\n",
        "            \"Don't set if you want to train a model from scratch.\"\n",
        "        },\n",
        "    )\n",
        "    config_name: Optional[str] = field(\n",
        "        default=None, metadata={\"help\": \"Pretrained config name or path if not the same as model_name\"}\n",
        "    )\n",
        "    tokenizer_name: Optional[str] = field(\n",
        "        default=None, metadata={\"help\": \"Pretrained tokenizer name or path if not the same as model_name\"}\n",
        "    )\n",
        "    cache_dir: Optional[str] = field(\n",
        "        default=None, metadata={\"help\": \"Where do you want to store the pretrained models downloaded from s3\"}\n",
        "    )\n",
        "    use_fast_tokenizer: bool = field(\n",
        "        default=True,\n",
        "        metadata={\"help\": \"Whether to use one of the fast tokenizer (backed by the tokenizers library) or not.\"},\n",
        "    )\n",
        "    dtype: Optional[str] = field(\n",
        "        default=\"float32\",\n",
        "        metadata={\n",
        "            \"help\": \"Floating-point format in which the model weights should be initialized and trained. Choose one of `[float32, float16, bfloat16]`.\"\n",
        "        },\n",
        "    )\n",
        "    save_optimizer: Optional[bool] = field(\n",
        "        default=True,\n",
        "        metadata={\"help\": \"Whether to store full train state including optimizer.\"},\n",
        "    )\n",
        "\n",
        "\n",
        "@dataclass\n",
        "class DataTrainingArguments:\n",
        "    \"\"\"\n",
        "    Arguments pertaining to what data we are going to input our model for training and eval.\n",
        "    \"\"\"\n",
        "\n",
        "    dataset_name: Optional[str] = field(\n",
        "        default=None, metadata={\"help\": \"The name of the dataset to use (via the datasets library).\"}\n",
        "    )\n",
        "    data_dir: Optional[str] = field(\n",
        "        default=None, metadata={\"help\": \"Path to local folder containing data files.\"}\n",
        "    )\n",
        "    train_file: Optional[str] = field(\n",
        "        default=None, metadata={\"help\": \"The input training data file (a jsonlines file).\"}\n",
        "    )\n",
        "    validation_file: Optional[str] = field(\n",
        "        default=None,\n",
        "        metadata={\"help\": \"An optional input evaluation data file (a jsonlines file).\"},\n",
        "    )\n",
        "    train_file: Optional[str] = field(default=None, metadata={\"help\": \"The input training data file (a text file).\"})\n",
        "    validation_file: Optional[str] = field(\n",
        "        default=None,\n",
        "        metadata={\"help\": \"An optional input evaluation data file to evaluate the perplexity on (a text file).\"},\n",
        "    )\n",
        "    max_train_samples: Optional[int] = field(\n",
        "        default=None,\n",
        "        metadata={\n",
        "            \"help\": \"For debugging purposes or quicker training, truncate the number of training examples to this \"\n",
        "            \"value if set.\"\n",
        "        },\n",
        "    )\n",
        "    max_eval_samples: Optional[int] = field(\n",
        "        default=None,\n",
        "        metadata={\n",
        "            \"help\": \"For debugging purposes or quicker training, truncate the number of evaluation examples to this \"\n",
        "            \"value if set.\"\n",
        "        },\n",
        "    )\n",
        "    overwrite_cache: bool = field(\n",
        "        default=False, metadata={\"help\": \"Overwrite the cached training and evaluation sets\"}\n",
        "    )\n",
        "    validation_split_percentage: Optional[int] = field(\n",
        "        default=5,\n",
        "        metadata={\n",
        "            \"help\": \"The percentage of the train set used as validation set in case there's no validation split\"\n",
        "        },\n",
        "    )\n",
        "    block_size: Optional[int] = field(\n",
        "        default=None,\n",
        "        metadata={\n",
        "            \"help\": \"Optional input sequence length after tokenization. \"\n",
        "            \"The training dataset will be truncated in block of this size for training. \"\n",
        "            \"Default to the model max input length for single sentence inputs (take into account special tokens).\"\n",
        "        },\n",
        "    )\n",
        "    overwrite_cache: bool = field(\n",
        "        default=False, metadata={\"help\": \"Overwrite the cached training and evaluation sets\"}\n",
        "    )\n",
        "    preprocessing_num_workers: Optional[int] = field(\n",
        "        default=None,\n",
        "        metadata={\"help\": \"The number of processes to use for the preprocessing.\"},\n",
        "    )\n",
        "    text_column_name: Optional[str] = field(\n",
        "            default='text',\n",
        "            metadata={\"help\": \"Column containing main text data.\"},\n",
        "    )\n",
        "    augment_images: Optional[bool] = field(\n",
        "        default=True,\n",
        "        metadata={ \"help\": \"Augment input training images\" }\n",
        "    )\n",
        "    augment_captions: Optional[bool] = field(\n",
        "        default=True,\n",
        "        metadata={ \"help\": \"Augment input training images\" }\n",
        "    )\n",
        "    captions_per_image: Optional[int] = field(\n",
        "        default=5,\n",
        "        metadata={\"help\": \"Number of captions per image to use when creating train dataset.\"},\n",
        "    )\n",
        "\n",
        "    def __post_init__(self):\n",
        "        if self.dataset_name is None and self.train_file is None and self.validation_file is None:\n",
        "            raise ValueError(\"Need either a dataset name or a training/validation file.\")\n",
        "        else:\n",
        "            if self.train_file is not None:\n",
        "                extension = self.train_file.split(\".\")[-1]\n",
        "                assert extension in [\"csv\", \"json\", \"txt\", \"jsonl\"], \"`train_file` should be a csv, a json or a txt file.\"\n",
        "            if self.validation_file is not None:\n",
        "                extension = self.validation_file.split(\".\")[-1]\n",
        "                assert extension in [\"csv\", \"json\", \"txt\", \"jsonl\"], \"`validation_file` should be a csv, a json or a txt file.\"\n",
        "\n",
        "\n",
        "@dataclass\n",
        "class ImageAugmentationArguments:\n",
        "    \"\"\"\n",
        "    Arguments for image augmentations configuration\n",
        "    \"\"\"\n",
        "    random_horizontal_flip: Optional[float] = field(\n",
        "        default=0.5,\n",
        "        metadata={ \"help\": \"Probability of applying random horizontal flip\" }\n",
        "    )\n",
        "    random_vertical_flip: Optional[float] = field(\n",
        "        default=0.5,\n",
        "        metadata={ \"help\": \"Probability of applying random vartical flip\" }\n",
        "    )\n"
      ],
      "execution_count": 15,
      "outputs": []
    },
    {
      "cell_type": "code",
      "metadata": {
        "id": "Ho0niTyzdcnd"
      },
      "source": [
        "data_args = DataTrainingArguments(\n",
        "    dataset_name = None,\n",
        "    data_dir = \"./data\",\n",
        "    train_file = \"/content/data/textaug_train_rsicd.jsonl\",\n",
        "    validation_file = \"/content/data/textaug_valid_rsicd.jsonl\",\n",
        "    max_train_samples = None,\n",
        "    max_eval_samples = None,\n",
        "    overwrite_cache = False,\n",
        "    validation_split_percentage = 5,\n",
        "    preprocessing_num_workers = 2,\n",
        "    augment_images = True,\n",
        "    augment_captions = True,\n",
        "    captions_per_image = 5,\n",
        ")\n",
        "\n",
        "augmentation_args = ImageAugmentationArguments()"
      ],
      "execution_count": 16,
      "outputs": []
    },
    {
      "cell_type": "code",
      "metadata": {
        "id": "YYO-c1gVdcu-"
      },
      "source": [
        "model_args = ModelArguments(\n",
        "    model_name_or_path = \"openai/clip-vit-base-patch32\",\n",
        "    dtype = half_precision_dtype,\n",
        "    save_optimizer = False,\n",
        ")"
      ],
      "execution_count": 17,
      "outputs": []
    },
    {
      "cell_type": "markdown",
      "metadata": {
        "id": "s3PQA_P8BNcb"
      },
      "source": [
        "Some utility functions for training:"
      ]
    },
    {
      "cell_type": "code",
      "metadata": {
        "id": "u7TtobMM_j2d"
      },
      "source": [
        "from flax.training import train_state\n",
        "from typing import Callable\n",
        "import jax.numpy as jnp\n",
        "from flax import jax_utils\n",
        "from flax.training.common_utils import shard_prng_key\n",
        "class TrainState(train_state.TrainState):\n",
        "    dropout_rng: jnp.ndarray\n",
        "\n",
        "    def replicate(self):\n",
        "        return jax_utils.replicate(self).replace(dropout_rng=shard_prng_key(self.dropout_rng))\n",
        "\n",
        "\n",
        "def write_train_metric(summary_writer, train_metrics, train_time, step):\n",
        "    summary_writer.scalar(\"train_time\", train_time, step)\n",
        "\n",
        "    train_metrics = get_metrics(train_metrics)\n",
        "    for key, vals in train_metrics.items():\n",
        "        tag = f\"train_{key}\"\n",
        "        for i, val in enumerate(vals):\n",
        "            summary_writer.scalar(tag, val, step - len(vals) + i + 1)\n",
        "\n",
        "\n",
        "def write_eval_metric(summary_writer, eval_metrics, step):\n",
        "    for metric_name, value in eval_metrics.items():\n",
        "        summary_writer.scalar(f\"eval_{metric_name}\", value, step)\n",
        "\n",
        "\n",
        "def create_learning_rate_fn(\n",
        "    train_ds_size: int, train_batch_size: int, num_train_epochs: int, warmup_ratio: float, learning_rate: float\n",
        ") -> Callable[[int], jnp.array]:\n",
        "    \"\"\"Returns a linear warmup, linear_decay learning rate function.\"\"\"\n",
        "    steps_per_epoch = train_ds_size // train_batch_size\n",
        "    num_train_steps = steps_per_epoch * num_train_epochs\n",
        "    num_warmup_steps = int(num_train_steps * warmup_ratio)\n",
        "    warmup_fn = optax.linear_schedule(init_value=0.0, end_value=learning_rate, transition_steps=num_warmup_steps)\n",
        "    decay_fn = optax.linear_schedule(\n",
        "        init_value=learning_rate, end_value=0, transition_steps=num_train_steps - num_warmup_steps\n",
        "    )\n",
        "    schedule_fn = optax.join_schedules(schedules=[warmup_fn, decay_fn], boundaries=[num_warmup_steps])\n",
        "    return schedule_fn\n",
        "\n",
        "# utils\n",
        "def mb_item(x):\n",
        "    return x.item() if hasattr(x, \"item\") else x\n",
        "\n",
        "def make_batch(samples):\n",
        "    batch = {k:jnp.array(v) for k,v in samples.items()}\n",
        "    return batch\n"
      ],
      "execution_count": 18,
      "outputs": []
    },
    {
      "cell_type": "markdown",
      "metadata": {
        "id": "wEnlIPdIM2_U"
      },
      "source": [
        "## Training"
      ]
    },
    {
      "cell_type": "code",
      "metadata": {
        "id": "6r25FOiR9-Wo"
      },
      "source": [
        "# Make one log on every process with the configuration for debugging.\n",
        "import logging\n",
        "logging.basicConfig(\n",
        "    format=\"%(asctime)s - %(levelname)s - %(name)s - %(message)s\",\n",
        "    datefmt=\"%m/%d/%Y %H:%M:%S\",\n",
        "    level=logging.INFO,\n",
        ")"
      ],
      "execution_count": 19,
      "outputs": []
    },
    {
      "cell_type": "code",
      "metadata": {
        "id": "rxGNIhxB5UoD",
        "colab": {
          "base_uri": "https://localhost:8080/"
        },
        "outputId": "f8ebea1a-cae0-4893-dd2e-56c63d438e83"
      },
      "source": [
        "# Load pretrained model and tokenizer\n",
        "from transformers import AutoConfig, CLIPProcessor, FlaxCLIPModel, CONFIG_MAPPING, is_tensorboard_available\n",
        "# Distributed training:\n",
        "# The .from_pretrained methods guarantee that only one local process can concurrently\n",
        "# download model & vocab.\n",
        "if model_args.config_name:\n",
        "    config = AutoConfig.from_pretrained(model_args.config_name, cache_dir=model_args.cache_dir)\n",
        "elif model_args.model_name_or_path:\n",
        "    config = AutoConfig.from_pretrained(model_args.model_name_or_path, cache_dir=model_args.cache_dir)\n",
        "else:\n",
        "    config = CONFIG_MAPPING[model_args.model_type]()\n",
        "    logger.warning(\"You are instantiating a new config instance from scratch.\")\n",
        "\n",
        "processor = CLIPProcessor.from_pretrained(model_args.model_name_or_path)\n",
        "tokenizer = processor.tokenizer\n",
        "if model_args.model_name_or_path:\n",
        "    model = FlaxCLIPModel.from_pretrained(\n",
        "        model_args.model_name_or_path, config=config, seed=training_args.seed, dtype=getattr(jnp, model_args.dtype)\n",
        "    )\n",
        "else:\n",
        "    model = FlaxCLIPModel.from_config(\n",
        "        config, seed=training_args.seed, dtype=getattr(jnp, model_args.dtype)\n",
        "    )"
      ],
      "execution_count": 20,
      "outputs": [
        {
          "output_type": "stream",
          "name": "stderr",
          "text": [
            "/usr/local/lib/python3.10/dist-packages/huggingface_hub/utils/_auth.py:94: UserWarning: \n",
            "The secret `HF_TOKEN` does not exist in your Colab secrets.\n",
            "To authenticate with the Hugging Face Hub, create a token in your settings tab (https://huggingface.co/settings/tokens), set it as secret in your Google Colab and restart your session.\n",
            "You will be able to reuse this secret in all of your notebooks.\n",
            "Please note that authentication is recommended but still optional to access public models or datasets.\n",
            "  warnings.warn(\n"
          ]
        }
      ]
    },
    {
      "cell_type": "code",
      "source": [
        "from torch.utils.data import Dataset\n",
        "import numpy as np\n",
        "\n",
        "class CustomDataset(Dataset):\n",
        "    def __init__(self, df, transform=None):\n",
        "        self.df = df\n",
        "        self.transform = transform\n",
        "\n",
        "    def __len__(self):\n",
        "        return len(self.df)\n",
        "\n",
        "    def __getitem__(self, idx):\n",
        "        image = self.df.iloc[idx]['image']\n",
        "        caption = self.df.iloc[idx]['caption']\n",
        "\n",
        "        if self.transform:\n",
        "            image = self.transform(image)  # Apply your image transformations\n",
        "\n",
        "        # Assuming your `transform` returns a PIL Image, convert to NumPy array:\n",
        "        #image = np.array(image)\n",
        "\n",
        "        return image, caption"
      ],
      "metadata": {
        "id": "aQhAZw3c_ZtO"
      },
      "execution_count": 21,
      "outputs": []
    },
    {
      "cell_type": "code",
      "source": [
        "from PIL import Image\n",
        "import io\n",
        "import ast\n",
        "import pandas as pd\n",
        "def convert_bytes_to_Image(byte_array) :\n",
        "    return Image.open(io.BytesIO((ast.literal_eval(byte_array)['bytes'])))\n",
        "df = pd.read_csv('/content/gdrive/MyDrive/Colab Notebooks/rsicd/train.csv')\n",
        "def modify_sentences(sentence):\n",
        "    # Split the multi-line string into individual sentences\n",
        "    #sentences = sentence.split('\\n')\n",
        "\n",
        "    # Parse the string representation of the list into a list of strings\n",
        "    captions_list = [sentence.strip() for sentence in sentence.strip(\"[]\").split('\\n')]\n",
        "\n",
        "    #array_of_strings = [sentence.strip() for sentence in parsed_list]\n",
        "    return captions_list\n",
        "df['captions'] = df['captions'].apply(lambda x: modify_sentences(x))\n",
        "df['captions'].tolist()\n",
        "print(df['captions'][0][0][1:-1])\n",
        "df['caption']=[i[0][1:-1] for i in df['captions']] #use only one caption for now\n",
        "df['image'] = df['image'].apply(lambda x: convert_bytes_to_Image(x))\n",
        "df['filename'] = df['filename'].str[13:]\n",
        "dfvalid = pd.read_csv('/content/gdrive/MyDrive/Colab Notebooks/rsicd/valid.csv')\n",
        "dfvalid['captions'] = dfvalid['captions'].apply(lambda x: modify_sentences(x))\n",
        "dfvalid['captions'].tolist()\n",
        "print(dfvalid['captions'][0][0][1:-1])\n",
        "dfvalid['caption']=[i[0][1:-1] for i in dfvalid['captions']] #use only one caption for now\n",
        "#convert_bytes_to_Image(df['image'][1])\n",
        "dfvalid['image'] = dfvalid['image'].apply(lambda x: convert_bytes_to_Image(x))\n",
        "dfvalid['filename'] = dfvalid['filename'].str[13:]"
      ],
      "metadata": {
        "colab": {
          "base_uri": "https://localhost:8080/"
        },
        "id": "OUBMtQ_RCfU8",
        "outputId": "ad45a0f0-50df-4c76-d1d6-90aab39992f5"
      },
      "execution_count": 22,
      "outputs": [
        {
          "output_type": "stream",
          "name": "stdout",
          "text": [
            "Many aircraft are parked next to a long building in an airport.\n",
            "the asphalted and airport runways divide the field into several rounded rectangles arranged next to which buildings and a road are located.\n"
          ]
        }
      ]
    },
    {
      "cell_type": "code",
      "source": [
        "from torchvision import transforms\n",
        "from PIL import Image\n",
        "class ToTensor():\n",
        "    def __call__(self, pil_image):\n",
        "        # Convert PIL Image to PyTorch tensor\n",
        "        return transforms.functional.to_tensor(pil_image)\n"
      ],
      "metadata": {
        "id": "pC2c98f2JlZX"
      },
      "execution_count": 23,
      "outputs": []
    },
    {
      "cell_type": "code",
      "metadata": {
        "id": "Gq-W2X8o8AUc"
      },
      "source": [
        "import torch\n",
        "from utils.data import ImageTextDataset, Transform\n",
        "from torchvision import transforms\n",
        "config = model.config\n",
        "# Initialize torchvision transforms and jit them for faster processing\n",
        "preprocess = Transform(config.vision_config.image_size, data_args.augment_images, augmentation_args)\n",
        "#preprocess = torch.jit.script(preprocess)\n",
        "# Change 1: Before jit scripting convert Transform to a torch.nn.Module\n",
        "#preprocess = torch.jit.script(torch.nn.Sequential(ToTensorModule(), preprocess))\n",
        "\n",
        "eval_preprocess = Transform(config.vision_config.image_size, False, augmentation_args)\n",
        "#eval_preprocess = torch.jit.script(eval_preprocess)\n",
        "# Change 2: Before jit scripting convert Transform to a torch.nn.Module\n",
        "#eval_preprocess = torch.jit.script(torch.nn.Sequential(ToTensorModule(), eval_preprocess))\n",
        "\n",
        "# Initialize the image-text dataset\n",
        "'''train_dataset = ImageTextDataset(\n",
        "    data_args.data_dir,\n",
        "    \"train\",\n",
        "    captions_per_image=data_args.captions_per_image,\n",
        "    augment_captions=data_args.augment_captions,\n",
        "    transform=preprocess,\n",
        ")\n",
        "\n",
        "eval_dataset = ImageTextDataset(\n",
        "    data_args.data_dir,\n",
        "    \"valid\",\n",
        "    captions_per_image=1,\n",
        "    transform=eval_preprocess,\n",
        ")'''\n",
        "preprocess = transforms.Compose([\n",
        "    transforms.ToTensor(),\n",
        "    preprocess\n",
        "])\n",
        "train_dataset = CustomDataset(df=df, transform=preprocess)\n",
        "eval_preprocess = transforms.Compose([\n",
        "    transforms.ToTensor(),\n",
        "    eval_preprocess\n",
        "])\n",
        "eval_dataset = CustomDataset(df=dfvalid, transform=eval_preprocess)\n",
        "\n",
        "\n",
        "# Enable tensorboard only on the master node\n",
        "has_tensorboard = is_tensorboard_available()\n",
        "if has_tensorboard and jax.process_index() == 0:\n",
        "    try:\n",
        "        from flax.metrics.tensorboard import SummaryWriter\n",
        "\n",
        "        summary_writer = SummaryWriter(log_dir=Path(training_args.output_dir))\n",
        "    except ImportError as ie:\n",
        "        has_tensorboard = False\n",
        "        logger.warning(\n",
        "            f\"Unable to display metrics through TensorBoard because some package are not installed: {ie}\"\n",
        "        )\n",
        "else:\n",
        "    logger.warning(\n",
        "        \"Unable to display metrics through TensorBoard because the package is not installed: \"\n",
        "        \"Please run pip install tensorboard to enable.\"\n",
        "    )\n",
        "\n",
        "# Use collate function to tokenizer the text and convert the processed images to numpy\n",
        "def collate_fn(examples):\n",
        "    pixel_values = torch.stack([example[0] for example in examples]).numpy()\n",
        "    captions = [example[1] for example in examples]\n",
        "    inputs = tokenizer(captions, max_length=32, padding=\"max_length\", return_tensors=\"np\", truncation=True)\n",
        "\n",
        "    batch = {\n",
        "        \"pixel_values\": pixel_values,\n",
        "        \"input_ids\": inputs[\"input_ids\"],\n",
        "        \"attention_mask\": inputs[\"attention_mask\"],\n",
        "    }\n",
        "\n",
        "    return batch\n",
        "\n",
        "# Store some constant\n",
        "num_epochs = int(training_args.num_train_epochs)\n",
        "train_batch_size = int(training_args.per_device_train_batch_size) * jax.device_count() * training_args.gradient_accumulation_steps\n",
        "eval_batch_size = int(training_args.per_device_eval_batch_size) * jax.device_count()\n",
        "steps_per_epoch = len(train_dataset) // train_batch_size\n",
        "total_train_steps = steps_per_epoch * num_epochs\n",
        "\n",
        "\n",
        "import torch.multiprocessing as mp\n",
        "mp.set_start_method('spawn', force=True)\n",
        "\n",
        "\n",
        "# Create data loaders\n",
        "train_loader = torch.utils.data.DataLoader(\n",
        "    train_dataset,\n",
        "    batch_size=train_batch_size,\n",
        "    shuffle=True,\n",
        "    num_workers=data_args.preprocessing_num_workers,\n",
        "    persistent_workers=True,\n",
        "    drop_last=True,\n",
        "    collate_fn=collate_fn,\n",
        ")\n",
        "\n",
        "eval_loader = torch.utils.data.DataLoader(\n",
        "    eval_dataset,\n",
        "    batch_size=eval_batch_size,\n",
        "    shuffle=False,\n",
        "    num_workers=data_args.preprocessing_num_workers,\n",
        "    persistent_workers=True,\n",
        "    drop_last=True,\n",
        "    collate_fn=collate_fn,\n",
        ")\n"
      ],
      "execution_count": 28,
      "outputs": []
    },
    {
      "cell_type": "code",
      "metadata": {
        "id": "o7noKF6g9V3Y",
        "colab": {
          "base_uri": "https://localhost:8080/",
          "height": 138
        },
        "outputId": "6d91808e-6a38-4014-c5c4-1676a86de366"
      },
      "source": [
        "# enable wandb tracking\n",
        "from importlib.util import find_spec # import find_spec from importlib.util\n",
        "import optax\n",
        "from flax import traverse_util\n",
        "\n",
        "has_wandb = find_spec(\"wandb\") is not None\n",
        "if jax.process_index() == 0 and has_wandb and (\"wandb\" in training_args.report_to):\n",
        "    try:\n",
        "        import wandb\n",
        "        if training_args.run_name is None:\n",
        "            run_name = training_args.output_dir.split(\"/\")[-1]\n",
        "        else:\n",
        "            run_name = training_args.run_name\n",
        "        wandb.init(\n",
        "            name=run_name,\n",
        "            entity=\"wandb\",\n",
        "            project=\"hf-flax-clip-rsicd\",\n",
        "            sync_tensorboard=True\n",
        "        )\n",
        "        wandb.config.update(training_args)\n",
        "        wandb.config.update(model_args)\n",
        "        wandb.config.update(data_args)\n",
        "    except ImportError as e:\n",
        "        print(e)\n",
        "        has_wandb = False\n",
        "\n",
        "# Initialize our training\n",
        "rng = jax.random.PRNGKey(training_args.seed)\n",
        "rng, dropout_rng = jax.random.split(rng)\n",
        "\n",
        "# Create learning rate schedule\n",
        "linear_decay_lr_schedule_fn = create_learning_rate_fn(\n",
        "    len(train_dataset),\n",
        "    train_batch_size,\n",
        "    training_args.num_train_epochs,\n",
        "    training_args.warmup_ratio,\n",
        "    training_args.learning_rate,\n",
        ")\n",
        "\n",
        "# We use Optax's \"masking\" functionality to not apply weight decay\n",
        "# to bias and LayerNorm scale parameters. decay_mask_fn returns a\n",
        "# mask boolean with the same structure as the parameters.\n",
        "# The mask is True for parameters that should be decayed.\n",
        "# Note that this mask is specifically adapted for FlaxGPT2.\n",
        "# For other models, one should correct the layer norm parameter naming\n",
        "# accordingly.\n",
        "def decay_mask_fn(params):\n",
        "    flat_params = traverse_util.flatten_dict(params)\n",
        "    flat_mask = {\n",
        "        path: (path[-1] != \"bias\" and path[-2:] not in [(\"ln_1\", \"scale\"), (\"ln_2\", \"scale\"), (\"ln_f\", \"scale\")])\n",
        "        for path in flat_params\n",
        "    }\n",
        "    return traverse_util.unflatten_dict(flat_mask)\n",
        "\n",
        "# create optimizer\n",
        "if training_args.adafactor:\n",
        "    # We use the default parameters here to initialize adafactor,\n",
        "    # For more details about the parameters please check https://github.com/deepmind/optax/blob/ed02befef9bf81cbbf236be3d2b0e032e9ed4a40/optax/_src/alias.py#L74\n",
        "    optimizer = optax.adafactor(\n",
        "        learning_rate=linear_decay_lr_schedule_fn,\n",
        "    )\n",
        "else:\n",
        "    optimizer = optax.adamw(\n",
        "        learning_rate=linear_decay_lr_schedule_fn,\n",
        "        b1=training_args.adam_beta1,\n",
        "        b2=training_args.adam_beta2,\n",
        "        eps=training_args.adam_epsilon,\n",
        "        weight_decay=training_args.weight_decay,\n",
        "        mask=decay_mask_fn,\n",
        "    )\n",
        "    optimizer = optax.chain(\n",
        "        optax.clip_by_global_norm(training_args.max_grad_norm),\n",
        "        optimizer\n",
        "    )\n",
        "if training_args.gradient_accumulation_steps > 1:\n",
        "    optimizer = optax.MultiSteps(optimizer, training_args.gradient_accumulation_steps)\n",
        "grad_accum_steps = training_args.gradient_accumulation_steps\n",
        "\n",
        "# Setup train state\n",
        "state = TrainState.create(apply_fn=model.__call__, params=model.params, tx=optimizer, dropout_rng=dropout_rng)\n",
        "\n",
        "if training_args.resume_from_checkpoint:\n",
        "    state = restore_checkpoint(training_args.resume_from_checkpoint, state)\n",
        "    resume_step = mb_item(state.step)\n",
        "else:\n",
        "    resume_step = 0"
      ],
      "execution_count": 25,
      "outputs": [
        {
          "output_type": "stream",
          "name": "stderr",
          "text": [
            "\u001b[34m\u001b[1mwandb\u001b[0m: Using wandb-core as the SDK backend.  Please refer to https://wandb.me/wandb-core for more information.\n",
            "\u001b[34m\u001b[1mwandb\u001b[0m: Currently logged in as: \u001b[33mlinas-palanga\u001b[0m. Use \u001b[1m`wandb login --relogin`\u001b[0m to force relogin\n"
          ]
        },
        {
          "output_type": "display_data",
          "data": {
            "text/plain": [
              "<IPython.core.display.HTML object>"
            ],
            "text/html": [
              "Tracking run with wandb version 0.19.1"
            ]
          },
          "metadata": {}
        },
        {
          "output_type": "display_data",
          "data": {
            "text/plain": [
              "<IPython.core.display.HTML object>"
            ],
            "text/html": [
              "Run data is saved locally in <code>/content/wandb/run-20241221_172445-r6by7tl1</code>"
            ]
          },
          "metadata": {}
        },
        {
          "output_type": "display_data",
          "data": {
            "text/plain": [
              "<IPython.core.display.HTML object>"
            ],
            "text/html": [
              "Syncing run <strong><a href='https://wandb.ai/wandb/hf-flax-clip-rsicd/runs/r6by7tl1' target=\"_blank\">./tmp/model1</a></strong> to <a href='https://wandb.ai/wandb/hf-flax-clip-rsicd' target=\"_blank\">Weights & Biases</a> (<a href='https://wandb.me/developer-guide' target=\"_blank\">docs</a>)<br>"
            ]
          },
          "metadata": {}
        },
        {
          "output_type": "display_data",
          "data": {
            "text/plain": [
              "<IPython.core.display.HTML object>"
            ],
            "text/html": [
              " View project at <a href='https://wandb.ai/wandb/hf-flax-clip-rsicd' target=\"_blank\">https://wandb.ai/wandb/hf-flax-clip-rsicd</a>"
            ]
          },
          "metadata": {}
        },
        {
          "output_type": "display_data",
          "data": {
            "text/plain": [
              "<IPython.core.display.HTML object>"
            ],
            "text/html": [
              " View run at <a href='https://wandb.ai/wandb/hf-flax-clip-rsicd/runs/r6by7tl1' target=\"_blank\">https://wandb.ai/wandb/hf-flax-clip-rsicd/runs/r6by7tl1</a>"
            ]
          },
          "metadata": {}
        }
      ]
    },
    {
      "cell_type": "code",
      "metadata": {
        "id": "JzrlUS5R84Jt"
      },
      "source": [
        "def cross_entropy(logits, axis):\n",
        "    logprobs = jax.nn.log_softmax(logits, axis=axis)\n",
        "    nll = jnp.diag(logprobs)\n",
        "    ce = -jnp.mean(nll)\n",
        "    return ce\n",
        "\n",
        "def clip_loss(similarity):\n",
        "    loss = (cross_entropy(similarity, axis=0) + cross_entropy(similarity, axis=1)) / 2\n",
        "    return loss\n",
        "\n",
        "# Define gradient update step fn\n",
        "def train_step(state, batch):\n",
        "    dropout_rng, new_dropout_rng = jax.random.split(state.dropout_rng)\n",
        "\n",
        "    def compute_loss(params):\n",
        "        logits = state.apply_fn(**batch, params=params, dropout_rng=dropout_rng, train=True)[0]\n",
        "        loss = clip_loss(logits)\n",
        "        return loss\n",
        "\n",
        "    grad_fn = jax.value_and_grad(compute_loss)\n",
        "    loss, grad = grad_fn(state.params)\n",
        "    grad = jax.lax.pmean(grad, \"batch\")\n",
        "\n",
        "    new_state = state.apply_gradients(grads=grad, dropout_rng=new_dropout_rng)\n",
        "\n",
        "    metrics = {\"loss\": loss, \"learning_rate\": linear_decay_lr_schedule_fn(state.step // grad_accum_steps)}\n",
        "    metrics = jax.lax.pmean(metrics, axis_name=\"batch\")\n",
        "\n",
        "    return new_state, metrics\n",
        "\n",
        "# Define eval fn\n",
        "def eval_step(params, batch):\n",
        "    logits = model(**batch, params=params, train=False)[0]\n",
        "    loss = clip_loss(logits)\n",
        "\n",
        "    # summarize metrics\n",
        "    metrics = {\"loss\": loss}\n",
        "    metrics = jax.lax.pmean(metrics, axis_name=\"batch\")\n",
        "    return metrics\n",
        "\n",
        "# Create parallel version of the train and eval step\n",
        "p_train_step = jax.pmap(train_step, \"batch\", donate_argnums=(0,))\n",
        "p_eval_step = jax.pmap(eval_step, \"batch\")\n",
        "\n",
        "# Replicate the train state on each device\n",
        "state = state.replicate()"
      ],
      "execution_count": 26,
      "outputs": []
    },
    {
      "cell_type": "code",
      "metadata": {
        "id": "qnNDzM3r5Y6F",
        "colab": {
          "base_uri": "https://localhost:8080/",
          "height": 408
        },
        "outputId": "770d530d-e5e9-41bb-ee77-ec90cd4d23f1"
      },
      "source": [
        "import logging\n",
        "from tqdm import tqdm\n",
        "import time\n",
        "import matplotlib.pyplot as plt  # Import Matplotlib\n",
        "# Initialize a list to store epoch losses\n",
        "epoch_losses = []\n",
        "\n",
        "logging.basicConfig(\n",
        "    format=\"%(asctime)s - %(levelname)s - %(name)s - %(message)s\",\n",
        "    datefmt=\"%m/%d/%Y %H:%M:%S\",\n",
        "    level=logging.INFO,\n",
        ")\n",
        "logger = logging.getLogger(__name__)\n",
        "\n",
        "logger.info(\"***** Running training *****\")\n",
        "logger.info(f\"  Num examples = {len(train_dataset)}\")\n",
        "logger.info(f\"  Num Epochs = {num_epochs}\")\n",
        "logger.info(f\"  Instantaneous batch size per device = {training_args.per_device_train_batch_size}\")\n",
        "logger.info(f\"  Total train batch size (w. parallel, distributed and grad_accum) = {train_batch_size}\")\n",
        "logger.info(f\"  Total optimization steps = {total_train_steps}\")\n",
        "\n",
        "if not training_args.skip_memory_metrics:\n",
        "    server = jax.profiler.start_server(9999)\n",
        "\n",
        "train_time = 0\n",
        "train_metrics = []\n",
        "epochs = tqdm(range(num_epochs), desc=f\"Epoch ... (1/{num_epochs})\", position=0)\n",
        "for epoch in epochs:\n",
        "    # ======================== Training ================================\n",
        "    train_start = time.time()\n",
        "\n",
        "    # Create sampling rng\n",
        "    rng, input_rng = jax.random.split(rng)\n",
        "\n",
        "    # Generate an epoch by shuffling sampling indices from the train dataset\n",
        "    steps_per_epoch = len(train_dataset) // train_batch_size\n",
        "    # train\n",
        "    steps_trained_progress_bar = tqdm(range(steps_per_epoch), desc=\"Training...\", position=1,\n",
        "                                        leave=False, initial=(resume_step // grad_accum_steps))\n",
        "    for step, batch in enumerate(train_loader):\n",
        "        cur_step = epoch * (len(train_dataset) // train_batch_size) + step\n",
        "        # skip to the step from which we are resuming\n",
        "        if cur_step < resume_step:\n",
        "            continue\n",
        "\n",
        "        batch = shard(make_batch(batch))\n",
        "\n",
        "        state, train_metric = p_train_step(state, batch)\n",
        "        train_metrics.append(train_metric)\n",
        "        if step % grad_accum_steps == 0:\n",
        "            steps_trained_progress_bar.update(1)\n",
        "\n",
        "        if cur_step % (training_args.logging_steps * grad_accum_steps)== 0 and cur_step > 0:\n",
        "            # Save metrics\n",
        "            train_metric = unreplicate(train_metric)\n",
        "            train_time += time.time() - train_start\n",
        "            if has_tensorboard and jax.process_index() == 0:\n",
        "                write_train_metric(summary_writer, train_metrics, train_time, cur_step)\n",
        "            if has_wandb and jax.process_index() == 0 and (\"wandb\" in training_args.report_to):\n",
        "                # TODO: add accumulation of metrics\n",
        "                _metrics = {k if k==\"learning_rate\" else f\"train_{k}\":mb_item(v.mean()) for k, v in train_metric.items()}\n",
        "                wandb.log({\"training_step\":cur_step, **_metrics}, commit=True)\n",
        "\n",
        "            epochs.write(\n",
        "                f\"Step... ({cur_step} | Loss: {train_metric['loss'].mean()}, Learning Rate: {train_metric['learning_rate'].mean()})\"\n",
        "            )\n",
        "\n",
        "            train_metrics = []\n",
        "\n",
        "    # Accumulate training loss for the epoch\n",
        "    total_epoch_loss = 0\n",
        "    for train_metric in train_metrics:\n",
        "        total_epoch_loss += train_metric['loss'].mean()\n",
        "\n",
        "    # Calculate average epoch loss\n",
        "    average_epoch_loss = total_epoch_loss / len(train_metrics)\n",
        "    epoch_losses.append(average_epoch_loss)\n",
        "\n",
        "    if True:\n",
        "        # ======================== Evaluating ==============================\n",
        "        eval_metrics = []\n",
        "        eval_steps = len(eval_dataset) // eval_batch_size\n",
        "        for batch in tqdm(eval_loader, desc=\"Evaluating...\", position=2, leave=False):\n",
        "            # Model forward\n",
        "            batch = shard(make_batch(batch))\n",
        "            metrics = p_eval_step(state.params, batch)\n",
        "            eval_metrics.append(metrics)\n",
        "\n",
        "        # normalize eval metrics\n",
        "        eval_metrics = get_metrics(eval_metrics)\n",
        "        eval_metrics = jax.tree.map(jnp.mean, eval_metrics)\n",
        "\n",
        "        # Print metrics and update progress bar\n",
        "        desc = f\"Step... ({cur_step} | Eval Loss: {eval_metrics['loss']})\"\n",
        "        epochs.write(desc)\n",
        "        epochs.desc = desc\n",
        "\n",
        "        # Save metrics\n",
        "        if has_tensorboard and jax.process_index() == 0:\n",
        "            # cur_step = epoch * (len(train_dataset) // train_batch_size)\n",
        "            write_eval_metric(summary_writer, eval_metrics, cur_step)\n",
        "        if has_wandb and jax.process_index() == 0 and (\"wandb\" in training_args.report_to):\n",
        "            _metrics = {f\"eval_{k}\":mb_item(v) for k, v in eval_metrics.items()}\n",
        "            wandb.log({\"eval_step\":cur_step, **_metrics})\n",
        "\n",
        "    # save checkpoint after each epoch\n",
        "    if jax.process_index() == 0:\n",
        "        save_dir = f\"{training_args.output_dir}/ckpt-{epoch}\"\n",
        "        model.save_pretrained(\n",
        "            save_dir,\n",
        "            params=unreplicate(state.params),\n",
        "            push_to_hub=False, # training_args.push_to_hub, # we don't push intermediate steps\n",
        "            commit_message=f\"Saving weights and logs at epoch {epoch}\",\n",
        "            repo_name_or_path=training_args.output_dir\n",
        "        )\n",
        "        if model_args.save_optimizer:\n",
        "            save_checkpoint(training_args.output_dir, unreplicate(state), cur_step, keep=training_args.save_total_limit, overwrite=True)\n",
        "        if training_args.save_total_limit is not None:\n",
        "            rotate_checkpoints(training_args.output_dir, training_args.save_total_limit)\n",
        "\n",
        "plt.plot(epoch_losses)\n",
        "plt.xlabel(\"Epoch\")\n",
        "plt.ylabel(\"Training Loss\")\n",
        "plt.title(\"Training Loss Over Epochs\")\n",
        "plt.show()"
      ],
      "execution_count": 29,
      "outputs": [
        {
          "output_type": "stream",
          "name": "stderr",
          "text": [
            "Epoch ... (1/1):   0%|          | 0/1 [00:00<?, ?it/s]\n",
            "Training...:   0%|          | 0/34 [00:00<?, ?it/s]\u001b[A\n",
            "Epoch ... (1/1):   0%|          | 0/1 [59:33<?, ?it/s]\n"
          ]
        },
        {
          "output_type": "error",
          "ename": "KeyboardInterrupt",
          "evalue": "",
          "traceback": [
            "\u001b[0;31m---------------------------------------------------------------------------\u001b[0m",
            "\u001b[0;31mKeyboardInterrupt\u001b[0m                         Traceback (most recent call last)",
            "\u001b[0;32m<ipython-input-29-d1e9cf2d99a9>\u001b[0m in \u001b[0;36m<cell line: 28>\u001b[0;34m()\u001b[0m\n\u001b[1;32m     38\u001b[0m     steps_trained_progress_bar = tqdm(range(steps_per_epoch), desc=\"Training...\", position=1,\n\u001b[1;32m     39\u001b[0m                                         leave=False, initial=(resume_step // grad_accum_steps))\n\u001b[0;32m---> 40\u001b[0;31m     \u001b[0;32mfor\u001b[0m \u001b[0mstep\u001b[0m\u001b[0;34m,\u001b[0m \u001b[0mbatch\u001b[0m \u001b[0;32min\u001b[0m \u001b[0menumerate\u001b[0m\u001b[0;34m(\u001b[0m\u001b[0mtrain_loader\u001b[0m\u001b[0;34m)\u001b[0m\u001b[0;34m:\u001b[0m\u001b[0;34m\u001b[0m\u001b[0;34m\u001b[0m\u001b[0m\n\u001b[0m\u001b[1;32m     41\u001b[0m         \u001b[0mcur_step\u001b[0m \u001b[0;34m=\u001b[0m \u001b[0mepoch\u001b[0m \u001b[0;34m*\u001b[0m \u001b[0;34m(\u001b[0m\u001b[0mlen\u001b[0m\u001b[0;34m(\u001b[0m\u001b[0mtrain_dataset\u001b[0m\u001b[0;34m)\u001b[0m \u001b[0;34m//\u001b[0m \u001b[0mtrain_batch_size\u001b[0m\u001b[0;34m)\u001b[0m \u001b[0;34m+\u001b[0m \u001b[0mstep\u001b[0m\u001b[0;34m\u001b[0m\u001b[0;34m\u001b[0m\u001b[0m\n\u001b[1;32m     42\u001b[0m         \u001b[0;31m# skip to the step from which we are resuming\u001b[0m\u001b[0;34m\u001b[0m\u001b[0;34m\u001b[0m\u001b[0m\n",
            "\u001b[0;32m/usr/local/lib/python3.10/dist-packages/torch/utils/data/dataloader.py\u001b[0m in \u001b[0;36m__iter__\u001b[0;34m(self)\u001b[0m\n\u001b[1;32m    477\u001b[0m         \u001b[0;32mif\u001b[0m \u001b[0mself\u001b[0m\u001b[0;34m.\u001b[0m\u001b[0mpersistent_workers\u001b[0m \u001b[0;32mand\u001b[0m \u001b[0mself\u001b[0m\u001b[0;34m.\u001b[0m\u001b[0mnum_workers\u001b[0m \u001b[0;34m>\u001b[0m \u001b[0;36m0\u001b[0m\u001b[0;34m:\u001b[0m\u001b[0;34m\u001b[0m\u001b[0;34m\u001b[0m\u001b[0m\n\u001b[1;32m    478\u001b[0m             \u001b[0;32mif\u001b[0m \u001b[0mself\u001b[0m\u001b[0;34m.\u001b[0m\u001b[0m_iterator\u001b[0m \u001b[0;32mis\u001b[0m \u001b[0;32mNone\u001b[0m\u001b[0;34m:\u001b[0m\u001b[0;34m\u001b[0m\u001b[0;34m\u001b[0m\u001b[0m\n\u001b[0;32m--> 479\u001b[0;31m                 \u001b[0mself\u001b[0m\u001b[0;34m.\u001b[0m\u001b[0m_iterator\u001b[0m \u001b[0;34m=\u001b[0m \u001b[0mself\u001b[0m\u001b[0;34m.\u001b[0m\u001b[0m_get_iterator\u001b[0m\u001b[0;34m(\u001b[0m\u001b[0;34m)\u001b[0m\u001b[0;34m\u001b[0m\u001b[0;34m\u001b[0m\u001b[0m\n\u001b[0m\u001b[1;32m    480\u001b[0m             \u001b[0;32melse\u001b[0m\u001b[0;34m:\u001b[0m\u001b[0;34m\u001b[0m\u001b[0;34m\u001b[0m\u001b[0m\n\u001b[1;32m    481\u001b[0m                 \u001b[0mself\u001b[0m\u001b[0;34m.\u001b[0m\u001b[0m_iterator\u001b[0m\u001b[0;34m.\u001b[0m\u001b[0m_reset\u001b[0m\u001b[0;34m(\u001b[0m\u001b[0mself\u001b[0m\u001b[0;34m)\u001b[0m\u001b[0;34m\u001b[0m\u001b[0;34m\u001b[0m\u001b[0m\n",
            "\u001b[0;32m/usr/local/lib/python3.10/dist-packages/torch/utils/data/dataloader.py\u001b[0m in \u001b[0;36m_get_iterator\u001b[0;34m(self)\u001b[0m\n\u001b[1;32m    413\u001b[0m         \u001b[0;32melse\u001b[0m\u001b[0;34m:\u001b[0m\u001b[0;34m\u001b[0m\u001b[0;34m\u001b[0m\u001b[0m\n\u001b[1;32m    414\u001b[0m             \u001b[0mself\u001b[0m\u001b[0;34m.\u001b[0m\u001b[0mcheck_worker_number_rationality\u001b[0m\u001b[0;34m(\u001b[0m\u001b[0;34m)\u001b[0m\u001b[0;34m\u001b[0m\u001b[0;34m\u001b[0m\u001b[0m\n\u001b[0;32m--> 415\u001b[0;31m             \u001b[0;32mreturn\u001b[0m \u001b[0m_MultiProcessingDataLoaderIter\u001b[0m\u001b[0;34m(\u001b[0m\u001b[0mself\u001b[0m\u001b[0;34m)\u001b[0m\u001b[0;34m\u001b[0m\u001b[0;34m\u001b[0m\u001b[0m\n\u001b[0m\u001b[1;32m    416\u001b[0m \u001b[0;34m\u001b[0m\u001b[0m\n\u001b[1;32m    417\u001b[0m     \u001b[0;34m@\u001b[0m\u001b[0mproperty\u001b[0m\u001b[0;34m\u001b[0m\u001b[0;34m\u001b[0m\u001b[0m\n",
            "\u001b[0;32m/usr/local/lib/python3.10/dist-packages/torch/utils/data/dataloader.py\u001b[0m in \u001b[0;36m__init__\u001b[0;34m(self, loader)\u001b[0m\n\u001b[1;32m   1136\u001b[0m             \u001b[0;31m#     before it starts, and __del__ tries to join but will get:\u001b[0m\u001b[0;34m\u001b[0m\u001b[0;34m\u001b[0m\u001b[0m\n\u001b[1;32m   1137\u001b[0m             \u001b[0;31m#     AssertionError: can only join a started process.\u001b[0m\u001b[0;34m\u001b[0m\u001b[0;34m\u001b[0m\u001b[0m\n\u001b[0;32m-> 1138\u001b[0;31m             \u001b[0mw\u001b[0m\u001b[0;34m.\u001b[0m\u001b[0mstart\u001b[0m\u001b[0;34m(\u001b[0m\u001b[0;34m)\u001b[0m\u001b[0;34m\u001b[0m\u001b[0;34m\u001b[0m\u001b[0m\n\u001b[0m\u001b[1;32m   1139\u001b[0m             \u001b[0mself\u001b[0m\u001b[0;34m.\u001b[0m\u001b[0m_index_queues\u001b[0m\u001b[0;34m.\u001b[0m\u001b[0mappend\u001b[0m\u001b[0;34m(\u001b[0m\u001b[0mindex_queue\u001b[0m\u001b[0;34m)\u001b[0m\u001b[0;34m\u001b[0m\u001b[0;34m\u001b[0m\u001b[0m\n\u001b[1;32m   1140\u001b[0m             \u001b[0mself\u001b[0m\u001b[0;34m.\u001b[0m\u001b[0m_workers\u001b[0m\u001b[0;34m.\u001b[0m\u001b[0mappend\u001b[0m\u001b[0;34m(\u001b[0m\u001b[0mw\u001b[0m\u001b[0;34m)\u001b[0m\u001b[0;34m\u001b[0m\u001b[0;34m\u001b[0m\u001b[0m\n",
            "\u001b[0;32m/usr/lib/python3.10/multiprocessing/process.py\u001b[0m in \u001b[0;36mstart\u001b[0;34m(self)\u001b[0m\n\u001b[1;32m    119\u001b[0m                \u001b[0;34m'daemonic processes are not allowed to have children'\u001b[0m\u001b[0;34m\u001b[0m\u001b[0;34m\u001b[0m\u001b[0m\n\u001b[1;32m    120\u001b[0m         \u001b[0m_cleanup\u001b[0m\u001b[0;34m(\u001b[0m\u001b[0;34m)\u001b[0m\u001b[0;34m\u001b[0m\u001b[0;34m\u001b[0m\u001b[0m\n\u001b[0;32m--> 121\u001b[0;31m         \u001b[0mself\u001b[0m\u001b[0;34m.\u001b[0m\u001b[0m_popen\u001b[0m \u001b[0;34m=\u001b[0m \u001b[0mself\u001b[0m\u001b[0;34m.\u001b[0m\u001b[0m_Popen\u001b[0m\u001b[0;34m(\u001b[0m\u001b[0mself\u001b[0m\u001b[0;34m)\u001b[0m\u001b[0;34m\u001b[0m\u001b[0;34m\u001b[0m\u001b[0m\n\u001b[0m\u001b[1;32m    122\u001b[0m         \u001b[0mself\u001b[0m\u001b[0;34m.\u001b[0m\u001b[0m_sentinel\u001b[0m \u001b[0;34m=\u001b[0m \u001b[0mself\u001b[0m\u001b[0;34m.\u001b[0m\u001b[0m_popen\u001b[0m\u001b[0;34m.\u001b[0m\u001b[0msentinel\u001b[0m\u001b[0;34m\u001b[0m\u001b[0;34m\u001b[0m\u001b[0m\n\u001b[1;32m    123\u001b[0m         \u001b[0;31m# Avoid a refcycle if the target function holds an indirect\u001b[0m\u001b[0;34m\u001b[0m\u001b[0;34m\u001b[0m\u001b[0m\n",
            "\u001b[0;32m/usr/lib/python3.10/multiprocessing/context.py\u001b[0m in \u001b[0;36m_Popen\u001b[0;34m(process_obj)\u001b[0m\n\u001b[1;32m    222\u001b[0m     \u001b[0;34m@\u001b[0m\u001b[0mstaticmethod\u001b[0m\u001b[0;34m\u001b[0m\u001b[0;34m\u001b[0m\u001b[0m\n\u001b[1;32m    223\u001b[0m     \u001b[0;32mdef\u001b[0m \u001b[0m_Popen\u001b[0m\u001b[0;34m(\u001b[0m\u001b[0mprocess_obj\u001b[0m\u001b[0;34m)\u001b[0m\u001b[0;34m:\u001b[0m\u001b[0;34m\u001b[0m\u001b[0;34m\u001b[0m\u001b[0m\n\u001b[0;32m--> 224\u001b[0;31m         \u001b[0;32mreturn\u001b[0m \u001b[0m_default_context\u001b[0m\u001b[0;34m.\u001b[0m\u001b[0mget_context\u001b[0m\u001b[0;34m(\u001b[0m\u001b[0;34m)\u001b[0m\u001b[0;34m.\u001b[0m\u001b[0mProcess\u001b[0m\u001b[0;34m.\u001b[0m\u001b[0m_Popen\u001b[0m\u001b[0;34m(\u001b[0m\u001b[0mprocess_obj\u001b[0m\u001b[0;34m)\u001b[0m\u001b[0;34m\u001b[0m\u001b[0;34m\u001b[0m\u001b[0m\n\u001b[0m\u001b[1;32m    225\u001b[0m \u001b[0;34m\u001b[0m\u001b[0m\n\u001b[1;32m    226\u001b[0m     \u001b[0;34m@\u001b[0m\u001b[0mstaticmethod\u001b[0m\u001b[0;34m\u001b[0m\u001b[0;34m\u001b[0m\u001b[0m\n",
            "\u001b[0;32m/usr/lib/python3.10/multiprocessing/context.py\u001b[0m in \u001b[0;36m_Popen\u001b[0;34m(process_obj)\u001b[0m\n\u001b[1;32m    286\u001b[0m         \u001b[0;32mdef\u001b[0m \u001b[0m_Popen\u001b[0m\u001b[0;34m(\u001b[0m\u001b[0mprocess_obj\u001b[0m\u001b[0;34m)\u001b[0m\u001b[0;34m:\u001b[0m\u001b[0;34m\u001b[0m\u001b[0;34m\u001b[0m\u001b[0m\n\u001b[1;32m    287\u001b[0m             \u001b[0;32mfrom\u001b[0m \u001b[0;34m.\u001b[0m\u001b[0mpopen_spawn_posix\u001b[0m \u001b[0;32mimport\u001b[0m \u001b[0mPopen\u001b[0m\u001b[0;34m\u001b[0m\u001b[0;34m\u001b[0m\u001b[0m\n\u001b[0;32m--> 288\u001b[0;31m             \u001b[0;32mreturn\u001b[0m \u001b[0mPopen\u001b[0m\u001b[0;34m(\u001b[0m\u001b[0mprocess_obj\u001b[0m\u001b[0;34m)\u001b[0m\u001b[0;34m\u001b[0m\u001b[0;34m\u001b[0m\u001b[0m\n\u001b[0m\u001b[1;32m    289\u001b[0m \u001b[0;34m\u001b[0m\u001b[0m\n\u001b[1;32m    290\u001b[0m         \u001b[0;34m@\u001b[0m\u001b[0mstaticmethod\u001b[0m\u001b[0;34m\u001b[0m\u001b[0;34m\u001b[0m\u001b[0m\n",
            "\u001b[0;32m/usr/lib/python3.10/multiprocessing/popen_spawn_posix.py\u001b[0m in \u001b[0;36m__init__\u001b[0;34m(self, process_obj)\u001b[0m\n\u001b[1;32m     30\u001b[0m     \u001b[0;32mdef\u001b[0m \u001b[0m__init__\u001b[0m\u001b[0;34m(\u001b[0m\u001b[0mself\u001b[0m\u001b[0;34m,\u001b[0m \u001b[0mprocess_obj\u001b[0m\u001b[0;34m)\u001b[0m\u001b[0;34m:\u001b[0m\u001b[0;34m\u001b[0m\u001b[0;34m\u001b[0m\u001b[0m\n\u001b[1;32m     31\u001b[0m         \u001b[0mself\u001b[0m\u001b[0;34m.\u001b[0m\u001b[0m_fds\u001b[0m \u001b[0;34m=\u001b[0m \u001b[0;34m[\u001b[0m\u001b[0;34m]\u001b[0m\u001b[0;34m\u001b[0m\u001b[0;34m\u001b[0m\u001b[0m\n\u001b[0;32m---> 32\u001b[0;31m         \u001b[0msuper\u001b[0m\u001b[0;34m(\u001b[0m\u001b[0;34m)\u001b[0m\u001b[0;34m.\u001b[0m\u001b[0m__init__\u001b[0m\u001b[0;34m(\u001b[0m\u001b[0mprocess_obj\u001b[0m\u001b[0;34m)\u001b[0m\u001b[0;34m\u001b[0m\u001b[0;34m\u001b[0m\u001b[0m\n\u001b[0m\u001b[1;32m     33\u001b[0m \u001b[0;34m\u001b[0m\u001b[0m\n\u001b[1;32m     34\u001b[0m     \u001b[0;32mdef\u001b[0m \u001b[0mduplicate_for_child\u001b[0m\u001b[0;34m(\u001b[0m\u001b[0mself\u001b[0m\u001b[0;34m,\u001b[0m \u001b[0mfd\u001b[0m\u001b[0;34m)\u001b[0m\u001b[0;34m:\u001b[0m\u001b[0;34m\u001b[0m\u001b[0;34m\u001b[0m\u001b[0m\n",
            "\u001b[0;32m/usr/lib/python3.10/multiprocessing/popen_fork.py\u001b[0m in \u001b[0;36m__init__\u001b[0;34m(self, process_obj)\u001b[0m\n\u001b[1;32m     17\u001b[0m         \u001b[0mself\u001b[0m\u001b[0;34m.\u001b[0m\u001b[0mreturncode\u001b[0m \u001b[0;34m=\u001b[0m \u001b[0;32mNone\u001b[0m\u001b[0;34m\u001b[0m\u001b[0;34m\u001b[0m\u001b[0m\n\u001b[1;32m     18\u001b[0m         \u001b[0mself\u001b[0m\u001b[0;34m.\u001b[0m\u001b[0mfinalizer\u001b[0m \u001b[0;34m=\u001b[0m \u001b[0;32mNone\u001b[0m\u001b[0;34m\u001b[0m\u001b[0;34m\u001b[0m\u001b[0m\n\u001b[0;32m---> 19\u001b[0;31m         \u001b[0mself\u001b[0m\u001b[0;34m.\u001b[0m\u001b[0m_launch\u001b[0m\u001b[0;34m(\u001b[0m\u001b[0mprocess_obj\u001b[0m\u001b[0;34m)\u001b[0m\u001b[0;34m\u001b[0m\u001b[0;34m\u001b[0m\u001b[0m\n\u001b[0m\u001b[1;32m     20\u001b[0m \u001b[0;34m\u001b[0m\u001b[0m\n\u001b[1;32m     21\u001b[0m     \u001b[0;32mdef\u001b[0m \u001b[0mduplicate_for_child\u001b[0m\u001b[0;34m(\u001b[0m\u001b[0mself\u001b[0m\u001b[0;34m,\u001b[0m \u001b[0mfd\u001b[0m\u001b[0;34m)\u001b[0m\u001b[0;34m:\u001b[0m\u001b[0;34m\u001b[0m\u001b[0;34m\u001b[0m\u001b[0m\n",
            "\u001b[0;32m/usr/lib/python3.10/multiprocessing/popen_spawn_posix.py\u001b[0m in \u001b[0;36m_launch\u001b[0;34m(self, process_obj)\u001b[0m\n\u001b[1;32m     60\u001b[0m             \u001b[0mself\u001b[0m\u001b[0;34m.\u001b[0m\u001b[0msentinel\u001b[0m \u001b[0;34m=\u001b[0m \u001b[0mparent_r\u001b[0m\u001b[0;34m\u001b[0m\u001b[0;34m\u001b[0m\u001b[0m\n\u001b[1;32m     61\u001b[0m             \u001b[0;32mwith\u001b[0m \u001b[0mopen\u001b[0m\u001b[0;34m(\u001b[0m\u001b[0mparent_w\u001b[0m\u001b[0;34m,\u001b[0m \u001b[0;34m'wb'\u001b[0m\u001b[0;34m,\u001b[0m \u001b[0mclosefd\u001b[0m\u001b[0;34m=\u001b[0m\u001b[0;32mFalse\u001b[0m\u001b[0;34m)\u001b[0m \u001b[0;32mas\u001b[0m \u001b[0mf\u001b[0m\u001b[0;34m:\u001b[0m\u001b[0;34m\u001b[0m\u001b[0;34m\u001b[0m\u001b[0m\n\u001b[0;32m---> 62\u001b[0;31m                 \u001b[0mf\u001b[0m\u001b[0;34m.\u001b[0m\u001b[0mwrite\u001b[0m\u001b[0;34m(\u001b[0m\u001b[0mfp\u001b[0m\u001b[0;34m.\u001b[0m\u001b[0mgetbuffer\u001b[0m\u001b[0;34m(\u001b[0m\u001b[0;34m)\u001b[0m\u001b[0;34m)\u001b[0m\u001b[0;34m\u001b[0m\u001b[0;34m\u001b[0m\u001b[0m\n\u001b[0m\u001b[1;32m     63\u001b[0m         \u001b[0;32mfinally\u001b[0m\u001b[0;34m:\u001b[0m\u001b[0;34m\u001b[0m\u001b[0;34m\u001b[0m\u001b[0m\n\u001b[1;32m     64\u001b[0m             \u001b[0mfds_to_close\u001b[0m \u001b[0;34m=\u001b[0m \u001b[0;34m[\u001b[0m\u001b[0;34m]\u001b[0m\u001b[0;34m\u001b[0m\u001b[0;34m\u001b[0m\u001b[0m\n",
            "\u001b[0;31mKeyboardInterrupt\u001b[0m: "
          ]
        }
      ]
    }
  ]
}