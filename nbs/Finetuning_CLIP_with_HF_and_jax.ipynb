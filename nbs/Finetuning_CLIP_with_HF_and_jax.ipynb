{
  "nbformat": 4,
  "nbformat_minor": 0,
  "metadata": {
    "colab": {
      "name": " Fine-tuning CLIP with HF and jax.ipynb",
      "provenance": []
    },
    "kernelspec": {
      "display_name": "Python 3",
      "name": "python3"
    },
    "language_info": {
      "name": "python"
    },
    "accelerator": "GPU"
  },
  "cells": [
    {
      "cell_type": "code",
      "metadata": {
        "colab": {
          "base_uri": "https://localhost:8080/"
        },
        "id": "V3ulNg6gsdZM",
        "outputId": "e87b9eb9-5fcf-45c8-d1b7-5346a5ba0244"
      },
      "source": [
        "!nvidia-smi"
      ],
      "execution_count": null,
      "outputs": [
        {
          "output_type": "stream",
          "text": [
            "Fri Jul 23 00:09:41 2021       \n",
            "+-----------------------------------------------------------------------------+\n",
            "| NVIDIA-SMI 470.42.01    Driver Version: 460.32.03    CUDA Version: 11.2     |\n",
            "|-------------------------------+----------------------+----------------------+\n",
            "| GPU  Name        Persistence-M| Bus-Id        Disp.A | Volatile Uncorr. ECC |\n",
            "| Fan  Temp  Perf  Pwr:Usage/Cap|         Memory-Usage | GPU-Util  Compute M. |\n",
            "|                               |                      |               MIG M. |\n",
            "|===============================+======================+======================|\n",
            "|   0  Tesla T4            Off  | 00000000:00:04.0 Off |                    0 |\n",
            "| N/A   47C    P8    10W /  70W |      0MiB / 15109MiB |      0%      Default |\n",
            "|                               |                      |                  N/A |\n",
            "+-------------------------------+----------------------+----------------------+\n",
            "                                                                               \n",
            "+-----------------------------------------------------------------------------+\n",
            "| Processes:                                                                  |\n",
            "|  GPU   GI   CI        PID   Type   Process name                  GPU Memory |\n",
            "|        ID   ID                                                   Usage      |\n",
            "|=============================================================================|\n",
            "|  No running processes found                                                 |\n",
            "+-----------------------------------------------------------------------------+\n"
          ],
          "name": "stdout"
        }
      ]
    },
    {
      "cell_type": "markdown",
      "metadata": {
        "id": "mlfVMqWO-xWQ"
      },
      "source": [
        "## Install libraries"
      ]
    },
    {
      "cell_type": "code",
      "metadata": {
        "id": "zDuOQ3kD-yN4"
      },
      "source": [
        "%%capture\n",
        "!pip install git+https://github.com/huggingface/transformers.git\n",
        "!pip install flax jsonlines ftfy wandb\n",
        "!pip install -U tqdm\n",
        "!pip install git+https://github.com/deepmind/optax.git"
      ],
      "execution_count": 2,
      "outputs": []
    },
    {
      "cell_type": "code",
      "metadata": {
        "id": "oC5CnV33_MT1"
      },
      "source": [
        "%%capture\n",
        "!git clone https://github.com/arampacha/CLIP-rsicd"
      ],
      "execution_count": 3,
      "outputs": []
    },
    {
      "cell_type": "code",
      "metadata": {
        "id": "qMTmg1jAAeAg"
      },
      "source": [
        "import sys\n",
        "sys.path += ['CLIP-rsicd']"
      ],
      "execution_count": 4,
      "outputs": []
    },
    {
      "cell_type": "markdown",
      "metadata": {
        "id": "jkt6xA5c-yta"
      },
      "source": [
        "## Imports"
      ]
    },
    {
      "cell_type": "code",
      "metadata": {
        "id": "I47SCHET_0dv",
        "colab": {
          "base_uri": "https://localhost:8080/"
        },
        "outputId": "5d8ecbe8-ea42-4ced-c7b3-cc275fa36299"
      },
      "source": [
        "try:\n",
        "    # This will raise an exception if no TPU is found\n",
        "    jax.devices('cuda')[0]\n",
        "    half_precision_dtype = \"bfloat16\"\n",
        "except IndexError:\n",
        "    half_precision_dtype = \"float16\"\n",
        "    print(\"No TPU detected, using float16\")\n",
        "device_count = jax.device_count()\n",
        "print(device_count)"
      ],
      "execution_count": 23,
      "outputs": [
        {
          "output_type": "stream",
          "name": "stdout",
          "text": [
            "1\n"
          ]
        }
      ]
    },
    {
      "cell_type": "code",
      "metadata": {
        "id": "lVIt4xmy9wbe"
      },
      "source": [
        "import logging\n",
        "import math\n",
        "import os\n",
        "import sys\n",
        "import time\n",
        "from dataclasses import dataclass, field\n",
        "from pathlib import Path\n",
        "from typing import Callable, Optional, List\n",
        "import json\n",
        "import jsonlines\n",
        "import shutil\n",
        "import numpy as np\n",
        "import torch\n",
        "\n",
        "from flax import training\n",
        "from tqdm.auto import tqdm\n",
        "\n",
        "import jax\n",
        "import jax.numpy as jnp\n",
        "import optax\n",
        "import transformers\n",
        "from flax import jax_utils, traverse_util\n",
        "from flax.jax_utils import unreplicate\n",
        "from flax.training import train_state\n",
        "from flax.training.common_utils import get_metrics, onehot, shard, shard_prng_key\n",
        "from flax.training.checkpoints import save_checkpoint, restore_checkpoint\n",
        "from flax.serialization import to_bytes, from_bytes\n",
        "from transformers import (\n",
        "    CONFIG_MAPPING,\n",
        "    AutoConfig,\n",
        "    FlaxCLIPModel,\n",
        "    CLIPProcessor,\n",
        "    CLIPTokenizer,\n",
        "    TrainingArguments,\n",
        "    is_tensorboard_available,\n",
        "    IntervalStrategy\n",
        "\n",
        ")\n",
        "from transformers.testing_utils import CaptureLogger\n",
        "\n",
        "from importlib.util import find_spec\n",
        "\n",
        "logger = logging.getLogger(__name__)"
      ],
      "execution_count": null,
      "outputs": []
    },
    {
      "cell_type": "code",
      "metadata": {
        "id": "LXIGChN5A-Ya"
      },
      "source": [
        "from utils.data import ImageTextDataset, Transform"
      ],
      "execution_count": null,
      "outputs": []
    },
    {
      "cell_type": "markdown",
      "metadata": {
        "id": "Sad49G7xLODz"
      },
      "source": [
        "## Data"
      ]
    },
    {
      "cell_type": "markdown",
      "metadata": {
        "id": "4xqYGFFMLkBW"
      },
      "source": [
        "In this notebook we will be using [RSICD dataset](). A copy of this dataset is shared by the authors on google drive. To use it one can simply add a shrtcut to own gdrive. In my case it's `RSICD` folder."
      ]
    },
    {
      "cell_type": "code",
      "metadata": {
        "id": "Rju8hL4kLQwt",
        "colab": {
          "base_uri": "https://localhost:8080/"
        },
        "outputId": "b2354ebe-2009-4b95-9d0d-25f7ae5498b6"
      },
      "source": [
        "from google.colab import drive\n",
        "drive.mount('/content/gdrive', force_remount=True)\n",
        "root_dir = \"/content/gdrive/My Drive/\""
      ],
      "execution_count": 6,
      "outputs": [
        {
          "output_type": "stream",
          "name": "stdout",
          "text": [
            "Mounted at /content/gdrive\n"
          ]
        }
      ]
    },
    {
      "cell_type": "code",
      "metadata": {
        "id": "aZ3jO7sbMCAl"
      },
      "source": [
        "from pathlib import Path\n",
        "path = Path(root_dir + 'RSICD/')"
      ],
      "execution_count": 8,
      "outputs": []
    },
    {
      "cell_type": "code",
      "metadata": {
        "id": "fKwNemzjMqb-"
      },
      "source": [
        "%%capture\n",
        "!unrar x gdrive/MyDrive/RSICD/RSICD_images.rar ./data/"
      ],
      "execution_count": 9,
      "outputs": []
    },
    {
      "cell_type": "code",
      "metadata": {
        "id": "osdVWceFxLyr",
        "colab": {
          "base_uri": "https://localhost:8080/"
        },
        "outputId": "3cf5e440-9dd2-4263-884f-0743e7207982"
      },
      "source": [
        "!mv /content/data/RSICD_images/ /content/data/rsicd_images"
      ],
      "execution_count": 10,
      "outputs": [
        {
          "output_type": "stream",
          "name": "stdout",
          "text": [
            "mv: cannot stat '/content/data/RSICD_images/': No such file or directory\n"
          ]
        }
      ]
    },
    {
      "cell_type": "markdown",
      "metadata": {
        "id": "muRsDbG_PpSF"
      },
      "source": [
        "We'll be using augmented captions for the images. The files containing those are available in our [github repo]()."
      ]
    },
    {
      "cell_type": "code",
      "metadata": {
        "id": "IiiEWO-WMDSe"
      },
      "source": [
        "%%capture\n",
        "!wget -P ./data/ https://raw.githubusercontent.com/arampacha/CLIP-rsicd/master/data/textaug_train_rsicd.jsonl\n",
        "!wget -P ./data/ https://raw.githubusercontent.com/arampacha/CLIP-rsicd/master/data/textaug_valid_rsicd.jsonl\n",
        "!wget -P ./data/ https://raw.githubusercontent.com/arampacha/CLIP-rsicd/master/data/textaug_test_rsicd.jsonl"
      ],
      "execution_count": 11,
      "outputs": []
    },
    {
      "cell_type": "markdown",
      "metadata": {
        "id": "hnAbpghPQArZ"
      },
      "source": [
        "Each line in the `jsonl` file has two fields: `filename` and `captions`:"
      ]
    },
    {
      "cell_type": "code",
      "metadata": {
        "colab": {
          "base_uri": "https://localhost:8080/"
        },
        "id": "ElNL6SXmQMV2",
        "outputId": "d428fcba-2b26-48e9-d27f-780d0ded5f62"
      },
      "source": [
        "import jsonlines\n",
        "with jsonlines.open(\"/content/data/textaug_valid_rsicd.jsonl\", \"r\") as reader:\n",
        "    line = next(iter(reader))\n",
        "print(f\"filename: {line['filename']}\\n\")\n",
        "print(\"captions:\")\n",
        "for i, caption in enumerate(line[\"captions\"]):\n",
        "    print(f\"{i+1}) {caption}\")"
      ],
      "execution_count": 14,
      "outputs": [
        {
          "output_type": "stream",
          "name": "stdout",
          "text": [
            "filename: rsicd_images/airport_61.jpg\n",
            "\n",
            "captions:\n",
            "1) the asphalted and airport runways divide the field into several rounded rectangles arranged next to which buildings and a road are located.\n",
            "2) the tarmac and airport runways divide the field into several orderly arranged rounded rectangles  next to which is buildings and a road .\n",
            "3) a brown ground divided by the grey runway .\n",
            "4) we can see a simple termial building and an apron connceted with runways .\n",
            "5) some building with a parking lot are near an airport with several runways .\n"
          ]
        }
      ]
    },
    {
      "cell_type": "markdown",
      "metadata": {
        "id": "1EdbSAbRLRhh"
      },
      "source": [
        "## Training arguments"
      ]
    },
    {
      "cell_type": "code",
      "metadata": {
        "id": "0gIBsInb95In"
      },
      "source": [
        "from dataclasses import dataclass, field\n",
        "from typing import Optional\n",
        "@dataclass\n",
        "class ModelArguments:\n",
        "    \"\"\"\n",
        "    Arguments pertaining to which model/config/tokenizer we are going to fine-tune, or train from scratch.\n",
        "    \"\"\"\n",
        "\n",
        "    model_name_or_path: Optional[str] = field(\n",
        "        default=None,\n",
        "        metadata={\n",
        "            \"help\": \"The model checkpoint for weights initialization.\"\n",
        "            \"Don't set if you want to train a model from scratch.\"\n",
        "        },\n",
        "    )\n",
        "    config_name: Optional[str] = field(\n",
        "        default=None, metadata={\"help\": \"Pretrained config name or path if not the same as model_name\"}\n",
        "    )\n",
        "    tokenizer_name: Optional[str] = field(\n",
        "        default=None, metadata={\"help\": \"Pretrained tokenizer name or path if not the same as model_name\"}\n",
        "    )\n",
        "    cache_dir: Optional[str] = field(\n",
        "        default=None, metadata={\"help\": \"Where do you want to store the pretrained models downloaded from s3\"}\n",
        "    )\n",
        "    use_fast_tokenizer: bool = field(\n",
        "        default=True,\n",
        "        metadata={\"help\": \"Whether to use one of the fast tokenizer (backed by the tokenizers library) or not.\"},\n",
        "    )\n",
        "    dtype: Optional[str] = field(\n",
        "        default=\"float32\",\n",
        "        metadata={\n",
        "            \"help\": \"Floating-point format in which the model weights should be initialized and trained. Choose one of `[float32, float16, bfloat16]`.\"\n",
        "        },\n",
        "    )\n",
        "    save_optimizer: Optional[bool] = field(\n",
        "        default=True,\n",
        "        metadata={\"help\": \"Whether to store full train state including optimizer.\"},\n",
        "    )\n",
        "\n",
        "\n",
        "@dataclass\n",
        "class DataTrainingArguments:\n",
        "    \"\"\"\n",
        "    Arguments pertaining to what data we are going to input our model for training and eval.\n",
        "    \"\"\"\n",
        "\n",
        "    dataset_name: Optional[str] = field(\n",
        "        default=None, metadata={\"help\": \"The name of the dataset to use (via the datasets library).\"}\n",
        "    )\n",
        "    data_dir: Optional[str] = field(\n",
        "        default=None, metadata={\"help\": \"Path to local folder containing data files.\"}\n",
        "    )\n",
        "    train_file: Optional[str] = field(\n",
        "        default=None, metadata={\"help\": \"The input training data file (a jsonlines file).\"}\n",
        "    )\n",
        "    validation_file: Optional[str] = field(\n",
        "        default=None,\n",
        "        metadata={\"help\": \"An optional input evaluation data file (a jsonlines file).\"},\n",
        "    )\n",
        "    train_file: Optional[str] = field(default=None, metadata={\"help\": \"The input training data file (a text file).\"})\n",
        "    validation_file: Optional[str] = field(\n",
        "        default=None,\n",
        "        metadata={\"help\": \"An optional input evaluation data file to evaluate the perplexity on (a text file).\"},\n",
        "    )\n",
        "    max_train_samples: Optional[int] = field(\n",
        "        default=None,\n",
        "        metadata={\n",
        "            \"help\": \"For debugging purposes or quicker training, truncate the number of training examples to this \"\n",
        "            \"value if set.\"\n",
        "        },\n",
        "    )\n",
        "    max_eval_samples: Optional[int] = field(\n",
        "        default=None,\n",
        "        metadata={\n",
        "            \"help\": \"For debugging purposes or quicker training, truncate the number of evaluation examples to this \"\n",
        "            \"value if set.\"\n",
        "        },\n",
        "    )\n",
        "    overwrite_cache: bool = field(\n",
        "        default=False, metadata={\"help\": \"Overwrite the cached training and evaluation sets\"}\n",
        "    )\n",
        "    validation_split_percentage: Optional[int] = field(\n",
        "        default=5,\n",
        "        metadata={\n",
        "            \"help\": \"The percentage of the train set used as validation set in case there's no validation split\"\n",
        "        },\n",
        "    )\n",
        "    block_size: Optional[int] = field(\n",
        "        default=None,\n",
        "        metadata={\n",
        "            \"help\": \"Optional input sequence length after tokenization. \"\n",
        "            \"The training dataset will be truncated in block of this size for training. \"\n",
        "            \"Default to the model max input length for single sentence inputs (take into account special tokens).\"\n",
        "        },\n",
        "    )\n",
        "    overwrite_cache: bool = field(\n",
        "        default=False, metadata={\"help\": \"Overwrite the cached training and evaluation sets\"}\n",
        "    )\n",
        "    preprocessing_num_workers: Optional[int] = field(\n",
        "        default=None,\n",
        "        metadata={\"help\": \"The number of processes to use for the preprocessing.\"},\n",
        "    )\n",
        "    text_column_name: Optional[str] = field(\n",
        "            default='text',\n",
        "            metadata={\"help\": \"Column containing main text data.\"},\n",
        "    )\n",
        "    augment_images: Optional[bool] = field(\n",
        "        default=True,\n",
        "        metadata={ \"help\": \"Augment input training images\" }\n",
        "    )\n",
        "    augment_captions: Optional[bool] = field(\n",
        "        default=True,\n",
        "        metadata={ \"help\": \"Augment input training images\" }\n",
        "    )\n",
        "    captions_per_image: Optional[int] = field(\n",
        "        default=5,\n",
        "        metadata={\"help\": \"Number of captions per image to use when creating train dataset.\"},\n",
        "    )\n",
        "\n",
        "    def __post_init__(self):\n",
        "        if self.dataset_name is None and self.train_file is None and self.validation_file is None:\n",
        "            raise ValueError(\"Need either a dataset name or a training/validation file.\")\n",
        "        else:\n",
        "            if self.train_file is not None:\n",
        "                extension = self.train_file.split(\".\")[-1]\n",
        "                assert extension in [\"csv\", \"json\", \"txt\", \"jsonl\"], \"`train_file` should be a csv, a json or a txt file.\"\n",
        "            if self.validation_file is not None:\n",
        "                extension = self.validation_file.split(\".\")[-1]\n",
        "                assert extension in [\"csv\", \"json\", \"txt\", \"jsonl\"], \"`validation_file` should be a csv, a json or a txt file.\"\n",
        "\n",
        "\n",
        "@dataclass\n",
        "class ImageAugmentationArguments:\n",
        "    \"\"\"\n",
        "    Arguments for image augmentations configuration\n",
        "    \"\"\"\n",
        "    random_horizontal_flip: Optional[float] = field(\n",
        "        default=0.5,\n",
        "        metadata={ \"help\": \"Probability of applying random horizontal flip\" }\n",
        "    )\n",
        "    random_vertical_flip: Optional[float] = field(\n",
        "        default=0.5,\n",
        "        metadata={ \"help\": \"Probability of applying random vartical flip\" }\n",
        "    )\n"
      ],
      "execution_count": 17,
      "outputs": []
    },
    {
      "cell_type": "code",
      "metadata": {
        "id": "jXZ-1Qb2dc2R",
        "colab": {
          "base_uri": "https://localhost:8080/"
        },
        "outputId": "0f1707cc-a8f2-4400-96ad-daa5c4c9e183"
      },
      "source": [
        "from transformers import TrainingArguments\n",
        "training_args = TrainingArguments(\n",
        "    output_dir = \"./tmp/model1\",\n",
        "    overwrite_output_dir = False,\n",
        "    do_train = True,\n",
        "    do_eval = True,\n",
        "    evaluation_strategy = \"steps\",\n",
        "    per_device_train_batch_size = 32,\n",
        "    per_device_eval_batch_size = 32,\n",
        "    gradient_accumulation_steps = 8,\n",
        "    learning_rate = 5e-05,\n",
        "    weight_decay = 0.1,\n",
        "    adam_beta1 = 0.9,\n",
        "    adam_beta2 = 0.98,\n",
        "    adam_epsilon = 1e-06,\n",
        "    max_grad_norm = 1.0,\n",
        "    num_train_epochs = 1,\n",
        "    max_steps = -1,\n",
        "    lr_scheduler_type = \"linear\",\n",
        "    warmup_ratio = 0.2,\n",
        "    # warmup_steps = 0,\n",
        "    logging_first_step = False,\n",
        "    logging_steps = 50,\n",
        "    save_strategy = \"epoch\",\n",
        "    seed = 42,\n",
        "    dataloader_drop_last = True,\n",
        "    eval_steps = 200,\n",
        "    run_name = None,\n",
        "    adafactor = False,\n",
        "    report_to = \"all\",\n",
        "    skip_memory_metrics = True,\n",
        "    resume_from_checkpoint = None,\n",
        ")"
      ],
      "execution_count": 19,
      "outputs": [
        {
          "output_type": "stream",
          "name": "stderr",
          "text": [
            "/usr/local/lib/python3.10/dist-packages/transformers/training_args.py:1575: FutureWarning: `evaluation_strategy` is deprecated and will be removed in version 4.46 of 🤗 Transformers. Use `eval_strategy` instead\n",
            "  warnings.warn(\n"
          ]
        }
      ]
    },
    {
      "cell_type": "code",
      "metadata": {
        "id": "YYO-c1gVdcu-"
      },
      "source": [
        "model_args = ModelArguments(\n",
        "    model_name_or_path = \"openai/clip-vit-base-patch32\",\n",
        "    dtype = half_precision_dtype,\n",
        "    save_optimizer = False,\n",
        ")"
      ],
      "execution_count": 24,
      "outputs": []
    },
    {
      "cell_type": "code",
      "metadata": {
        "id": "Ho0niTyzdcnd"
      },
      "source": [
        "data_args = DataTrainingArguments(\n",
        "    dataset_name = None,\n",
        "    data_dir = \"./data\",\n",
        "    train_file = \"/content/data/textaug_train_rsicd.jsonl\",\n",
        "    validation_file = \"/content/data/textaug_valid_rsicd.jsonl\",\n",
        "    max_train_samples = None,\n",
        "    max_eval_samples = None,\n",
        "    overwrite_cache = False,\n",
        "    validation_split_percentage = 5,\n",
        "    preprocessing_num_workers = 2,\n",
        "    augment_images = True,\n",
        "    augment_captions = True,\n",
        "    captions_per_image = 5,\n",
        ")\n",
        "\n",
        "augmentation_args = ImageAugmentationArguments()"
      ],
      "execution_count": 25,
      "outputs": []
    },
    {
      "cell_type": "markdown",
      "metadata": {
        "id": "s3PQA_P8BNcb"
      },
      "source": [
        "Some utility functions for training:"
      ]
    },
    {
      "cell_type": "code",
      "metadata": {
        "id": "u7TtobMM_j2d"
      },
      "source": [
        "from flax.training import train_state\n",
        "from typing import Callable\n",
        "import jax.numpy as jnp\n",
        "from flax import jax_utils\n",
        "from flax.training.common_utils import shard_prng_key\n",
        "class TrainState(train_state.TrainState):\n",
        "    dropout_rng: jnp.ndarray\n",
        "\n",
        "    def replicate(self):\n",
        "        return jax_utils.replicate(self).replace(dropout_rng=shard_prng_key(self.dropout_rng))\n",
        "\n",
        "\n",
        "def write_train_metric(summary_writer, train_metrics, train_time, step):\n",
        "    summary_writer.scalar(\"train_time\", train_time, step)\n",
        "\n",
        "    train_metrics = get_metrics(train_metrics)\n",
        "    for key, vals in train_metrics.items():\n",
        "        tag = f\"train_{key}\"\n",
        "        for i, val in enumerate(vals):\n",
        "            summary_writer.scalar(tag, val, step - len(vals) + i + 1)\n",
        "\n",
        "\n",
        "def write_eval_metric(summary_writer, eval_metrics, step):\n",
        "    for metric_name, value in eval_metrics.items():\n",
        "        summary_writer.scalar(f\"eval_{metric_name}\", value, step)\n",
        "\n",
        "\n",
        "def create_learning_rate_fn(\n",
        "    train_ds_size: int, train_batch_size: int, num_train_epochs: int, warmup_ratio: float, learning_rate: float\n",
        ") -> Callable[[int], jnp.array]:\n",
        "    \"\"\"Returns a linear warmup, linear_decay learning rate function.\"\"\"\n",
        "    steps_per_epoch = train_ds_size // train_batch_size\n",
        "    num_train_steps = steps_per_epoch * num_train_epochs\n",
        "    num_warmup_steps = int(num_train_steps * warmup_ratio)\n",
        "    warmup_fn = optax.linear_schedule(init_value=0.0, end_value=learning_rate, transition_steps=num_warmup_steps)\n",
        "    decay_fn = optax.linear_schedule(\n",
        "        init_value=learning_rate, end_value=0, transition_steps=num_train_steps - num_warmup_steps\n",
        "    )\n",
        "    schedule_fn = optax.join_schedules(schedules=[warmup_fn, decay_fn], boundaries=[num_warmup_steps])\n",
        "    return schedule_fn\n",
        "\n",
        "# utils\n",
        "def mb_item(x):\n",
        "    return x.item() if hasattr(x, \"item\") else x\n",
        "\n",
        "def make_batch(samples):\n",
        "    batch = {k:jnp.array(v) for k,v in samples.items()}\n",
        "    return batch\n"
      ],
      "execution_count": 46,
      "outputs": []
    },
    {
      "cell_type": "markdown",
      "metadata": {
        "id": "wEnlIPdIM2_U"
      },
      "source": [
        "## Training"
      ]
    },
    {
      "cell_type": "code",
      "metadata": {
        "id": "6r25FOiR9-Wo"
      },
      "source": [
        "# Make one log on every process with the configuration for debugging.\n",
        "import logging\n",
        "logging.basicConfig(\n",
        "    format=\"%(asctime)s - %(levelname)s - %(name)s - %(message)s\",\n",
        "    datefmt=\"%m/%d/%Y %H:%M:%S\",\n",
        "    level=logging.INFO,\n",
        ")"
      ],
      "execution_count": 31,
      "outputs": []
    },
    {
      "cell_type": "code",
      "metadata": {
        "id": "rxGNIhxB5UoD"
      },
      "source": [
        "# Load pretrained model and tokenizer\n",
        "from transformers import AutoConfig, CLIPProcessor, FlaxCLIPModel, CONFIG_MAPPING, is_tensorboard_available\n",
        "# Distributed training:\n",
        "# The .from_pretrained methods guarantee that only one local process can concurrently\n",
        "# download model & vocab.\n",
        "if model_args.config_name:\n",
        "    config = AutoConfig.from_pretrained(model_args.config_name, cache_dir=model_args.cache_dir)\n",
        "elif model_args.model_name_or_path:\n",
        "    config = AutoConfig.from_pretrained(model_args.model_name_or_path, cache_dir=model_args.cache_dir)\n",
        "else:\n",
        "    config = CONFIG_MAPPING[model_args.model_type]()\n",
        "    logger.warning(\"You are instantiating a new config instance from scratch.\")\n",
        "\n",
        "processor = CLIPProcessor.from_pretrained(model_args.model_name_or_path)\n",
        "tokenizer = processor.tokenizer\n",
        "if model_args.model_name_or_path:\n",
        "    model = FlaxCLIPModel.from_pretrained(\n",
        "        model_args.model_name_or_path, config=config, seed=training_args.seed, dtype=getattr(jnp, model_args.dtype)\n",
        "    )\n",
        "else:\n",
        "    model = FlaxCLIPModel.from_config(\n",
        "        config, seed=training_args.seed, dtype=getattr(jnp, model_args.dtype)\n",
        "    )"
      ],
      "execution_count": 37,
      "outputs": []
    },
    {
      "cell_type": "code",
      "metadata": {
        "colab": {
          "base_uri": "https://localhost:8080/"
        },
        "id": "Gq-W2X8o8AUc",
        "outputId": "609c0452-1d6b-4d33-b037-c56184a14f9e"
      },
      "source": [
        "import torch\n",
        "from utils.data import ImageTextDataset, Transform\n",
        "config = model.config\n",
        "# Initialize torchvision transforms and jit them for faster processing\n",
        "preprocess = Transform(config.vision_config.image_size, data_args.augment_images, augmentation_args)\n",
        "preprocess = torch.jit.script(preprocess)\n",
        "\n",
        "eval_preprocess = Transform(config.vision_config.image_size, False, augmentation_args)\n",
        "eval_preprocess = torch.jit.script(eval_preprocess)\n",
        "\n",
        "# Initialize the image-text dataset\n",
        "train_dataset = ImageTextDataset(\n",
        "    data_args.data_dir,\n",
        "    \"train\",\n",
        "    captions_per_image=data_args.captions_per_image,\n",
        "    augment_captions=data_args.augment_captions,\n",
        "    transform=preprocess,\n",
        ")\n",
        "\n",
        "eval_dataset = ImageTextDataset(\n",
        "    data_args.data_dir,\n",
        "    \"valid\",\n",
        "    captions_per_image=1,\n",
        "    transform=eval_preprocess,\n",
        ")\n",
        "\n",
        "# Enable tensorboard only on the master node\n",
        "has_tensorboard = is_tensorboard_available()\n",
        "if has_tensorboard and jax.process_index() == 0:\n",
        "    try:\n",
        "        from flax.metrics.tensorboard import SummaryWriter\n",
        "\n",
        "        summary_writer = SummaryWriter(log_dir=Path(training_args.output_dir))\n",
        "    except ImportError as ie:\n",
        "        has_tensorboard = False\n",
        "        logger.warning(\n",
        "            f\"Unable to display metrics through TensorBoard because some package are not installed: {ie}\"\n",
        "        )\n",
        "else:\n",
        "    logger.warning(\n",
        "        \"Unable to display metrics through TensorBoard because the package is not installed: \"\n",
        "        \"Please run pip install tensorboard to enable.\"\n",
        "    )\n",
        "\n",
        "# Use collate function to tokenizer the text and convert the processed images to numpy\n",
        "def collate_fn(examples):\n",
        "    pixel_values = torch.stack([example[0] for example in examples]).numpy()\n",
        "    captions = [example[1] for example in examples]\n",
        "    inputs = tokenizer(captions, max_length=32, padding=\"max_length\", return_tensors=\"np\", truncation=True)\n",
        "\n",
        "    batch = {\n",
        "        \"pixel_values\": pixel_values,\n",
        "        \"input_ids\": inputs[\"input_ids\"],\n",
        "        \"attention_mask\": inputs[\"attention_mask\"],\n",
        "    }\n",
        "\n",
        "    return batch\n",
        "\n",
        "# Store some constant\n",
        "num_epochs = int(training_args.num_train_epochs)\n",
        "train_batch_size = int(training_args.per_device_train_batch_size) * jax.device_count() * training_args.gradient_accumulation_steps\n",
        "eval_batch_size = int(training_args.per_device_eval_batch_size) * jax.device_count()\n",
        "steps_per_epoch = len(train_dataset) // train_batch_size\n",
        "total_train_steps = steps_per_epoch * num_epochs\n",
        "\n",
        "# Create data loaders\n",
        "train_loader = torch.utils.data.DataLoader(\n",
        "    train_dataset,\n",
        "    batch_size=train_batch_size,\n",
        "    shuffle=True,\n",
        "    num_workers=data_args.preprocessing_num_workers,\n",
        "    persistent_workers=True,\n",
        "    drop_last=True,\n",
        "    collate_fn=collate_fn,\n",
        ")\n",
        "\n",
        "eval_loader = torch.utils.data.DataLoader(\n",
        "    eval_dataset,\n",
        "    batch_size=eval_batch_size,\n",
        "    shuffle=False,\n",
        "    num_workers=data_args.preprocessing_num_workers,\n",
        "    persistent_workers=True,\n",
        "    drop_last=True,\n",
        "    collate_fn=collate_fn,\n",
        ")\n"
      ],
      "execution_count": 38,
      "outputs": [
        {
          "output_type": "stream",
          "name": "stdout",
          "text": [
            "1 input files for train split found\n",
            "1 input files for valid split found\n"
          ]
        }
      ]
    },
    {
      "cell_type": "code",
      "metadata": {
        "id": "o7noKF6g9V3Y"
      },
      "source": [
        "# enable wandb tracking\n",
        "from importlib.util import find_spec # import find_spec from importlib.util\n",
        "import optax\n",
        "from flax import traverse_util\n",
        "\n",
        "has_wandb = find_spec(\"wandb\") is not None\n",
        "if jax.process_index() == 0 and has_wandb and (\"wandb\" in training_args.report_to):\n",
        "    try:\n",
        "        import wandb\n",
        "        if training_args.run_name is None:\n",
        "            run_name = training_args.output_dir.split(\"/\")[-1]\n",
        "        else:\n",
        "            run_name = training_args.run_name\n",
        "        wandb.init(\n",
        "            name=run_name,\n",
        "            entity=\"wandb\",\n",
        "            project=\"hf-flax-clip-rsicd\",\n",
        "            sync_tensorboard=True\n",
        "        )\n",
        "        wandb.config.update(training_args)\n",
        "        wandb.config.update(model_args)\n",
        "        wandb.config.update(data_args)\n",
        "    except ImportError as e:\n",
        "        print(e)\n",
        "        has_wandb = False\n",
        "\n",
        "# Initialize our training\n",
        "rng = jax.random.PRNGKey(training_args.seed)\n",
        "rng, dropout_rng = jax.random.split(rng)\n",
        "\n",
        "# Create learning rate schedule\n",
        "linear_decay_lr_schedule_fn = create_learning_rate_fn(\n",
        "    len(train_dataset),\n",
        "    train_batch_size,\n",
        "    training_args.num_train_epochs,\n",
        "    training_args.warmup_ratio,\n",
        "    training_args.learning_rate,\n",
        ")\n",
        "\n",
        "# We use Optax's \"masking\" functionality to not apply weight decay\n",
        "# to bias and LayerNorm scale parameters. decay_mask_fn returns a\n",
        "# mask boolean with the same structure as the parameters.\n",
        "# The mask is True for parameters that should be decayed.\n",
        "# Note that this mask is specifically adapted for FlaxGPT2.\n",
        "# For other models, one should correct the layer norm parameter naming\n",
        "# accordingly.\n",
        "def decay_mask_fn(params):\n",
        "    flat_params = traverse_util.flatten_dict(params)\n",
        "    flat_mask = {\n",
        "        path: (path[-1] != \"bias\" and path[-2:] not in [(\"ln_1\", \"scale\"), (\"ln_2\", \"scale\"), (\"ln_f\", \"scale\")])\n",
        "        for path in flat_params\n",
        "    }\n",
        "    return traverse_util.unflatten_dict(flat_mask)\n",
        "\n",
        "# create optimizer\n",
        "if training_args.adafactor:\n",
        "    # We use the default parameters here to initialize adafactor,\n",
        "    # For more details about the parameters please check https://github.com/deepmind/optax/blob/ed02befef9bf81cbbf236be3d2b0e032e9ed4a40/optax/_src/alias.py#L74\n",
        "    optimizer = optax.adafactor(\n",
        "        learning_rate=linear_decay_lr_schedule_fn,\n",
        "    )\n",
        "else:\n",
        "    optimizer = optax.adamw(\n",
        "        learning_rate=linear_decay_lr_schedule_fn,\n",
        "        b1=training_args.adam_beta1,\n",
        "        b2=training_args.adam_beta2,\n",
        "        eps=training_args.adam_epsilon,\n",
        "        weight_decay=training_args.weight_decay,\n",
        "        mask=decay_mask_fn,\n",
        "    )\n",
        "    optimizer = optax.chain(\n",
        "        optax.clip_by_global_norm(training_args.max_grad_norm),\n",
        "        optimizer\n",
        "    )\n",
        "if training_args.gradient_accumulation_steps > 1:\n",
        "    optimizer = optax.MultiSteps(optimizer, training_args.gradient_accumulation_steps)\n",
        "grad_accum_steps = training_args.gradient_accumulation_steps\n",
        "\n",
        "# Setup train state\n",
        "state = TrainState.create(apply_fn=model.__call__, params=model.params, tx=optimizer, dropout_rng=dropout_rng)\n",
        "\n",
        "if training_args.resume_from_checkpoint:\n",
        "    state = restore_checkpoint(training_args.resume_from_checkpoint, state)\n",
        "    resume_step = mb_item(state.step)\n",
        "else:\n",
        "    resume_step = 0"
      ],
      "execution_count": 42,
      "outputs": []
    },
    {
      "cell_type": "code",
      "metadata": {
        "id": "JzrlUS5R84Jt"
      },
      "source": [
        "def cross_entropy(logits, axis):\n",
        "    logprobs = jax.nn.log_softmax(logits, axis=axis)\n",
        "    nll = jnp.diag(logprobs)\n",
        "    ce = -jnp.mean(nll)\n",
        "    return ce\n",
        "\n",
        "def clip_loss(similarity):\n",
        "    loss = (cross_entropy(similarity, axis=0) + cross_entropy(similarity, axis=1)) / 2\n",
        "    return loss\n",
        "\n",
        "# Define gradient update step fn\n",
        "def train_step(state, batch):\n",
        "    dropout_rng, new_dropout_rng = jax.random.split(state.dropout_rng)\n",
        "\n",
        "    def compute_loss(params):\n",
        "        logits = state.apply_fn(**batch, params=params, dropout_rng=dropout_rng, train=True)[0]\n",
        "        loss = clip_loss(logits)\n",
        "        return loss\n",
        "\n",
        "    grad_fn = jax.value_and_grad(compute_loss)\n",
        "    loss, grad = grad_fn(state.params)\n",
        "    grad = jax.lax.pmean(grad, \"batch\")\n",
        "\n",
        "    new_state = state.apply_gradients(grads=grad, dropout_rng=new_dropout_rng)\n",
        "\n",
        "    metrics = {\"loss\": loss, \"learning_rate\": linear_decay_lr_schedule_fn(state.step // grad_accum_steps)}\n",
        "    metrics = jax.lax.pmean(metrics, axis_name=\"batch\")\n",
        "\n",
        "    return new_state, metrics\n",
        "\n",
        "# Define eval fn\n",
        "def eval_step(params, batch):\n",
        "    logits = model(**batch, params=params, train=False)[0]\n",
        "    loss = clip_loss(logits)\n",
        "\n",
        "    # summarize metrics\n",
        "    metrics = {\"loss\": loss}\n",
        "    metrics = jax.lax.pmean(metrics, axis_name=\"batch\")\n",
        "    return metrics\n",
        "\n",
        "# Create parallel version of the train and eval step\n",
        "p_train_step = jax.pmap(train_step, \"batch\", donate_argnums=(0,))\n",
        "p_eval_step = jax.pmap(eval_step, \"batch\")\n",
        "\n",
        "# Replicate the train state on each device\n",
        "state = state.replicate()"
      ],
      "execution_count": 47,
      "outputs": []
    },
    {
      "cell_type": "code",
      "metadata": {
        "id": "qnNDzM3r5Y6F",
        "colab": {
          "base_uri": "https://localhost:8080/",
          "height": 1000
        },
        "outputId": "740884c2-6ca9-4a2b-da36-87b07ea858ea"
      },
      "source": [
        "import logging\n",
        "from tqdm import tqdm\n",
        "import time\n",
        "\n",
        "logging.basicConfig(\n",
        "    format=\"%(asctime)s - %(levelname)s - %(name)s - %(message)s\",\n",
        "    datefmt=\"%m/%d/%Y %H:%M:%S\",\n",
        "    level=logging.INFO,\n",
        ")\n",
        "logger = logging.getLogger(__name__)\n",
        "\n",
        "logger.info(\"***** Running training *****\")\n",
        "logger.info(f\"  Num examples = {len(train_dataset)}\")\n",
        "logger.info(f\"  Num Epochs = {num_epochs}\")\n",
        "logger.info(f\"  Instantaneous batch size per device = {training_args.per_device_train_batch_size}\")\n",
        "logger.info(f\"  Total train batch size (w. parallel, distributed and grad_accum) = {train_batch_size}\")\n",
        "logger.info(f\"  Total optimization steps = {total_train_steps}\")\n",
        "\n",
        "if not training_args.skip_memory_metrics:\n",
        "    server = jax.profiler.start_server(9999)\n",
        "\n",
        "train_time = 0\n",
        "train_metrics = []\n",
        "epochs = tqdm(range(num_epochs), desc=f\"Epoch ... (1/{num_epochs})\", position=0)\n",
        "for epoch in epochs:\n",
        "    # ======================== Training ================================\n",
        "    train_start = time.time()\n",
        "\n",
        "    # Create sampling rng\n",
        "    rng, input_rng = jax.random.split(rng)\n",
        "\n",
        "    # Generate an epoch by shuffling sampling indices from the train dataset\n",
        "    steps_per_epoch = len(train_dataset) // train_batch_size\n",
        "    # train\n",
        "    steps_trained_progress_bar = tqdm(range(steps_per_epoch), desc=\"Training...\", position=1,\n",
        "                                        leave=False, initial=(resume_step // grad_accum_steps))\n",
        "    for step, batch in enumerate(train_loader):\n",
        "        cur_step = epoch * (len(train_dataset) // train_batch_size) + step\n",
        "        # skip to the step from which we are resuming\n",
        "        if cur_step < resume_step:\n",
        "            continue\n",
        "\n",
        "        batch = shard(make_batch(batch))\n",
        "\n",
        "        state, train_metric = p_train_step(state, batch)\n",
        "        train_metrics.append(train_metric)\n",
        "        if step % grad_accum_steps == 0:\n",
        "            steps_trained_progress_bar.update(1)\n",
        "\n",
        "        if cur_step % (training_args.logging_steps * grad_accum_steps)== 0 and cur_step > 0:\n",
        "            # Save metrics\n",
        "            train_metric = unreplicate(train_metric)\n",
        "            train_time += time.time() - train_start\n",
        "            if has_tensorboard and jax.process_index() == 0:\n",
        "                write_train_metric(summary_writer, train_metrics, train_time, cur_step)\n",
        "            if has_wandb and jax.process_index() == 0 and (\"wandb\" in training_args.report_to):\n",
        "                # TODO: add accumulation of metrics\n",
        "                _metrics = {k if k==\"learning_rate\" else f\"train_{k}\":mb_item(v.mean()) for k, v in train_metric.items()}\n",
        "                wandb.log({\"training_step\":cur_step, **_metrics}, commit=True)\n",
        "\n",
        "            epochs.write(\n",
        "                f\"Step... ({cur_step} | Loss: {train_metric['loss'].mean()}, Learning Rate: {train_metric['learning_rate'].mean()})\"\n",
        "            )\n",
        "\n",
        "            train_metrics = []\n",
        "\n",
        "    if True:\n",
        "        # ======================== Evaluating ==============================\n",
        "        eval_metrics = []\n",
        "        eval_steps = len(eval_dataset) // eval_batch_size\n",
        "        for batch in tqdm(eval_loader, desc=\"Evaluating...\", position=2, leave=False):\n",
        "            # Model forward\n",
        "            batch = shard(make_batch(batch))\n",
        "            metrics = p_eval_step(state.params, batch)\n",
        "            eval_metrics.append(metrics)\n",
        "\n",
        "        # normalize eval metrics\n",
        "        eval_metrics = get_metrics(eval_metrics)\n",
        "        eval_metrics = jax.tree_map(jnp.mean, eval_metrics)\n",
        "\n",
        "        # Print metrics and update progress bar\n",
        "        desc = f\"Step... ({cur_step} | Eval Loss: {eval_metrics['loss']})\"\n",
        "        epochs.write(desc)\n",
        "        epochs.desc = desc\n",
        "\n",
        "        # Save metrics\n",
        "        if has_tensorboard and jax.process_index() == 0:\n",
        "            # cur_step = epoch * (len(train_dataset) // train_batch_size)\n",
        "            write_eval_metric(summary_writer, eval_metrics, cur_step)\n",
        "        if has_wandb and jax.process_index() == 0 and (\"wandb\" in training_args.report_to):\n",
        "            _metrics = {f\"eval_{k}\":mb_item(v) for k, v in eval_metrics.items()}\n",
        "            wandb.log({\"eval_step\":cur_step, **_metrics})\n",
        "\n",
        "    # save checkpoint after each epoch\n",
        "    if jax.process_index() == 0:\n",
        "        save_dir = f\"{training_args.output_dir}/ckpt-{epoch}\"\n",
        "        model.save_pretrained(\n",
        "            save_dir,\n",
        "            params=unreplicate(state.params),\n",
        "            push_to_hub=False, # training_args.push_to_hub, # we don't push intermediate steps\n",
        "            commit_message=f\"Saving weights and logs at epoch {epoch}\",\n",
        "            repo_name_or_path=training_args.output_dir\n",
        "        )\n",
        "        if model_args.save_optimizer:\n",
        "            save_checkpoint(training_args.output_dir, unreplicate(state), cur_step, keep=training_args.save_total_limit, overwrite=True)\n",
        "        if training_args.save_total_limit is not None:\n",
        "            rotate_checkpoints(training_args.output_dir, training_args.save_total_limit)\n"
      ],
      "execution_count": 52,
      "outputs": [
        {
          "output_type": "stream",
          "name": "stderr",
          "text": [
            "Epoch ... (1/1):   0%|          | 0/1 [00:00<?, ?it/s]\n",
            "Training...:   0%|          | 0/170 [00:00<?, ?it/s]\u001b[A/usr/lib/python3.10/multiprocessing/popen_fork.py:66: RuntimeWarning: os.fork() was called. os.fork() is incompatible with multithreaded code, and JAX is multithreaded, so this will likely lead to a deadlock.\n",
            "  self.pid = os.fork()\n",
            "Epoch ... (1/1):   0%|          | 0/1 [00:00<?, ?it/s]\n"
          ]
        },
        {
          "output_type": "error",
          "ename": "RuntimeError",
          "evalue": "Caught RuntimeError in DataLoader worker process 0.\nOriginal Traceback (most recent call last):\n  File \"/usr/local/lib/python3.10/dist-packages/torch/utils/data/_utils/worker.py\", line 351, in _worker_loop\n    data = fetcher.fetch(index)  # type: ignore[possibly-undefined]\n  File \"/usr/local/lib/python3.10/dist-packages/torch/utils/data/_utils/fetch.py\", line 52, in fetch\n    data = [self.dataset[idx] for idx in possibly_batched_index]\n  File \"/usr/local/lib/python3.10/dist-packages/torch/utils/data/_utils/fetch.py\", line 52, in <listcomp>\n    data = [self.dataset[idx] for idx in possibly_batched_index]\n  File \"/content/CLIP-rsicd/utils/data.py\", line 120, in __getitem__\n    image = self._load_image(index)\n  File \"/content/CLIP-rsicd/utils/data.py\", line 114, in _load_image\n    return read_image(path, mode=ImageReadMode.RGB)\n  File \"/usr/local/lib/python3.10/dist-packages/torchvision/io/image.py\", line 330, in read_image\n    data = read_file(path)\n  File \"/usr/local/lib/python3.10/dist-packages/torchvision/io/image.py\", line 64, in read_file\n    data = torch.ops.image.read_file(str(path))\n  File \"/usr/local/lib/python3.10/dist-packages/torch/_ops.py\", line 1116, in __call__\n    return self._op(*args, **(kwargs or {}))\nRuntimeError: [Errno 2] No such file or directory: './data/rsicd_images/industrial_106.jpg'\n",
          "traceback": [
            "\u001b[0;31m---------------------------------------------------------------------------\u001b[0m",
            "\u001b[0;31mRuntimeError\u001b[0m                              Traceback (most recent call last)",
            "\u001b[0;32m<ipython-input-52-670c1ba7b6a9>\u001b[0m in \u001b[0;36m<cell line: 25>\u001b[0;34m()\u001b[0m\n\u001b[1;32m     35\u001b[0m     steps_trained_progress_bar = tqdm(range(steps_per_epoch), desc=\"Training...\", position=1,\n\u001b[1;32m     36\u001b[0m                                         leave=False, initial=(resume_step // grad_accum_steps))\n\u001b[0;32m---> 37\u001b[0;31m     \u001b[0;32mfor\u001b[0m \u001b[0mstep\u001b[0m\u001b[0;34m,\u001b[0m \u001b[0mbatch\u001b[0m \u001b[0;32min\u001b[0m \u001b[0menumerate\u001b[0m\u001b[0;34m(\u001b[0m\u001b[0mtrain_loader\u001b[0m\u001b[0;34m)\u001b[0m\u001b[0;34m:\u001b[0m\u001b[0;34m\u001b[0m\u001b[0;34m\u001b[0m\u001b[0m\n\u001b[0m\u001b[1;32m     38\u001b[0m         \u001b[0mcur_step\u001b[0m \u001b[0;34m=\u001b[0m \u001b[0mepoch\u001b[0m \u001b[0;34m*\u001b[0m \u001b[0;34m(\u001b[0m\u001b[0mlen\u001b[0m\u001b[0;34m(\u001b[0m\u001b[0mtrain_dataset\u001b[0m\u001b[0;34m)\u001b[0m \u001b[0;34m//\u001b[0m \u001b[0mtrain_batch_size\u001b[0m\u001b[0;34m)\u001b[0m \u001b[0;34m+\u001b[0m \u001b[0mstep\u001b[0m\u001b[0;34m\u001b[0m\u001b[0;34m\u001b[0m\u001b[0m\n\u001b[1;32m     39\u001b[0m         \u001b[0;31m# skip to the step from which we are resuming\u001b[0m\u001b[0;34m\u001b[0m\u001b[0;34m\u001b[0m\u001b[0m\n",
            "\u001b[0;32m/usr/local/lib/python3.10/dist-packages/torch/utils/data/dataloader.py\u001b[0m in \u001b[0;36m__next__\u001b[0;34m(self)\u001b[0m\n\u001b[1;32m    699\u001b[0m                 \u001b[0;31m# TODO(https://github.com/pytorch/pytorch/issues/76750)\u001b[0m\u001b[0;34m\u001b[0m\u001b[0;34m\u001b[0m\u001b[0m\n\u001b[1;32m    700\u001b[0m                 \u001b[0mself\u001b[0m\u001b[0;34m.\u001b[0m\u001b[0m_reset\u001b[0m\u001b[0;34m(\u001b[0m\u001b[0;34m)\u001b[0m  \u001b[0;31m# type: ignore[call-arg]\u001b[0m\u001b[0;34m\u001b[0m\u001b[0;34m\u001b[0m\u001b[0m\n\u001b[0;32m--> 701\u001b[0;31m             \u001b[0mdata\u001b[0m \u001b[0;34m=\u001b[0m \u001b[0mself\u001b[0m\u001b[0;34m.\u001b[0m\u001b[0m_next_data\u001b[0m\u001b[0;34m(\u001b[0m\u001b[0;34m)\u001b[0m\u001b[0;34m\u001b[0m\u001b[0;34m\u001b[0m\u001b[0m\n\u001b[0m\u001b[1;32m    702\u001b[0m             \u001b[0mself\u001b[0m\u001b[0;34m.\u001b[0m\u001b[0m_num_yielded\u001b[0m \u001b[0;34m+=\u001b[0m \u001b[0;36m1\u001b[0m\u001b[0;34m\u001b[0m\u001b[0;34m\u001b[0m\u001b[0m\n\u001b[1;32m    703\u001b[0m             if (\n",
            "\u001b[0;32m/usr/local/lib/python3.10/dist-packages/torch/utils/data/dataloader.py\u001b[0m in \u001b[0;36m_next_data\u001b[0;34m(self)\u001b[0m\n\u001b[1;32m   1463\u001b[0m             \u001b[0;32melse\u001b[0m\u001b[0;34m:\u001b[0m\u001b[0;34m\u001b[0m\u001b[0;34m\u001b[0m\u001b[0m\n\u001b[1;32m   1464\u001b[0m                 \u001b[0;32mdel\u001b[0m \u001b[0mself\u001b[0m\u001b[0;34m.\u001b[0m\u001b[0m_task_info\u001b[0m\u001b[0;34m[\u001b[0m\u001b[0midx\u001b[0m\u001b[0;34m]\u001b[0m\u001b[0;34m\u001b[0m\u001b[0;34m\u001b[0m\u001b[0m\n\u001b[0;32m-> 1465\u001b[0;31m                 \u001b[0;32mreturn\u001b[0m \u001b[0mself\u001b[0m\u001b[0;34m.\u001b[0m\u001b[0m_process_data\u001b[0m\u001b[0;34m(\u001b[0m\u001b[0mdata\u001b[0m\u001b[0;34m)\u001b[0m\u001b[0;34m\u001b[0m\u001b[0;34m\u001b[0m\u001b[0m\n\u001b[0m\u001b[1;32m   1466\u001b[0m \u001b[0;34m\u001b[0m\u001b[0m\n\u001b[1;32m   1467\u001b[0m     \u001b[0;32mdef\u001b[0m \u001b[0m_try_put_index\u001b[0m\u001b[0;34m(\u001b[0m\u001b[0mself\u001b[0m\u001b[0;34m)\u001b[0m\u001b[0;34m:\u001b[0m\u001b[0;34m\u001b[0m\u001b[0;34m\u001b[0m\u001b[0m\n",
            "\u001b[0;32m/usr/local/lib/python3.10/dist-packages/torch/utils/data/dataloader.py\u001b[0m in \u001b[0;36m_process_data\u001b[0;34m(self, data)\u001b[0m\n\u001b[1;32m   1489\u001b[0m         \u001b[0mself\u001b[0m\u001b[0;34m.\u001b[0m\u001b[0m_try_put_index\u001b[0m\u001b[0;34m(\u001b[0m\u001b[0;34m)\u001b[0m\u001b[0;34m\u001b[0m\u001b[0;34m\u001b[0m\u001b[0m\n\u001b[1;32m   1490\u001b[0m         \u001b[0;32mif\u001b[0m \u001b[0misinstance\u001b[0m\u001b[0;34m(\u001b[0m\u001b[0mdata\u001b[0m\u001b[0;34m,\u001b[0m \u001b[0mExceptionWrapper\u001b[0m\u001b[0;34m)\u001b[0m\u001b[0;34m:\u001b[0m\u001b[0;34m\u001b[0m\u001b[0;34m\u001b[0m\u001b[0m\n\u001b[0;32m-> 1491\u001b[0;31m             \u001b[0mdata\u001b[0m\u001b[0;34m.\u001b[0m\u001b[0mreraise\u001b[0m\u001b[0;34m(\u001b[0m\u001b[0;34m)\u001b[0m\u001b[0;34m\u001b[0m\u001b[0;34m\u001b[0m\u001b[0m\n\u001b[0m\u001b[1;32m   1492\u001b[0m         \u001b[0;32mreturn\u001b[0m \u001b[0mdata\u001b[0m\u001b[0;34m\u001b[0m\u001b[0;34m\u001b[0m\u001b[0m\n\u001b[1;32m   1493\u001b[0m \u001b[0;34m\u001b[0m\u001b[0m\n",
            "\u001b[0;32m/usr/local/lib/python3.10/dist-packages/torch/_utils.py\u001b[0m in \u001b[0;36mreraise\u001b[0;34m(self)\u001b[0m\n\u001b[1;32m    713\u001b[0m             \u001b[0;31m# instantiate since we don't know how to\u001b[0m\u001b[0;34m\u001b[0m\u001b[0;34m\u001b[0m\u001b[0m\n\u001b[1;32m    714\u001b[0m             \u001b[0;32mraise\u001b[0m \u001b[0mRuntimeError\u001b[0m\u001b[0;34m(\u001b[0m\u001b[0mmsg\u001b[0m\u001b[0;34m)\u001b[0m \u001b[0;32mfrom\u001b[0m \u001b[0;32mNone\u001b[0m\u001b[0;34m\u001b[0m\u001b[0;34m\u001b[0m\u001b[0m\n\u001b[0;32m--> 715\u001b[0;31m         \u001b[0;32mraise\u001b[0m \u001b[0mexception\u001b[0m\u001b[0;34m\u001b[0m\u001b[0;34m\u001b[0m\u001b[0m\n\u001b[0m\u001b[1;32m    716\u001b[0m \u001b[0;34m\u001b[0m\u001b[0m\n\u001b[1;32m    717\u001b[0m \u001b[0;34m\u001b[0m\u001b[0m\n",
            "\u001b[0;31mRuntimeError\u001b[0m: Caught RuntimeError in DataLoader worker process 0.\nOriginal Traceback (most recent call last):\n  File \"/usr/local/lib/python3.10/dist-packages/torch/utils/data/_utils/worker.py\", line 351, in _worker_loop\n    data = fetcher.fetch(index)  # type: ignore[possibly-undefined]\n  File \"/usr/local/lib/python3.10/dist-packages/torch/utils/data/_utils/fetch.py\", line 52, in fetch\n    data = [self.dataset[idx] for idx in possibly_batched_index]\n  File \"/usr/local/lib/python3.10/dist-packages/torch/utils/data/_utils/fetch.py\", line 52, in <listcomp>\n    data = [self.dataset[idx] for idx in possibly_batched_index]\n  File \"/content/CLIP-rsicd/utils/data.py\", line 120, in __getitem__\n    image = self._load_image(index)\n  File \"/content/CLIP-rsicd/utils/data.py\", line 114, in _load_image\n    return read_image(path, mode=ImageReadMode.RGB)\n  File \"/usr/local/lib/python3.10/dist-packages/torchvision/io/image.py\", line 330, in read_image\n    data = read_file(path)\n  File \"/usr/local/lib/python3.10/dist-packages/torchvision/io/image.py\", line 64, in read_file\n    data = torch.ops.image.read_file(str(path))\n  File \"/usr/local/lib/python3.10/dist-packages/torch/_ops.py\", line 1116, in __call__\n    return self._op(*args, **(kwargs or {}))\nRuntimeError: [Errno 2] No such file or directory: './data/rsicd_images/industrial_106.jpg'\n"
          ]
        }
      ]
    }
  ]
}